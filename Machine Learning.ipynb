{
 "cells": [
  {
   "cell_type": "markdown",
   "id": "0d79a299",
   "metadata": {},
   "source": [
    "# Machine Learning"
   ]
  },
  {
   "cell_type": "code",
   "execution_count": 1,
   "id": "bf1c02b7",
   "metadata": {},
   "outputs": [],
   "source": [
    "import numpy as np\n",
    "import matplotlib.pyplot as plt\n",
    "import seaborn as sns\n",
    "import pandas as pd"
   ]
  },
  {
   "cell_type": "code",
   "execution_count": 2,
   "id": "5b086031",
   "metadata": {},
   "outputs": [],
   "source": [
    "%matplotlib inline"
   ]
  },
  {
   "cell_type": "markdown",
   "id": "a50c05e3",
   "metadata": {},
   "source": [
    "## Loading Data"
   ]
  },
  {
   "cell_type": "code",
   "execution_count": 3,
   "id": "369d6b4a",
   "metadata": {},
   "outputs": [],
   "source": [
    "ecg_data = pd.read_csv(\"./processed_data/ecg_processed_data.csv\", index_col=0)"
   ]
  },
  {
   "cell_type": "code",
   "execution_count": 4,
   "id": "f6b8aca5",
   "metadata": {},
   "outputs": [
    {
     "data": {
      "text/html": [
       "<div>\n",
       "<style scoped>\n",
       "    .dataframe tbody tr th:only-of-type {\n",
       "        vertical-align: middle;\n",
       "    }\n",
       "\n",
       "    .dataframe tbody tr th {\n",
       "        vertical-align: top;\n",
       "    }\n",
       "\n",
       "    .dataframe thead th {\n",
       "        text-align: right;\n",
       "    }\n",
       "</style>\n",
       "<table border=\"1\" class=\"dataframe\">\n",
       "  <thead>\n",
       "    <tr style=\"text-align: right;\">\n",
       "      <th></th>\n",
       "      <th>Record ID</th>\n",
       "      <th>Segment Start</th>\n",
       "      <th>Segment End</th>\n",
       "      <th>0</th>\n",
       "      <th>1</th>\n",
       "      <th>2</th>\n",
       "      <th>3</th>\n",
       "      <th>4</th>\n",
       "      <th>5</th>\n",
       "      <th>6</th>\n",
       "      <th>...</th>\n",
       "      <th>191</th>\n",
       "      <th>192</th>\n",
       "      <th>193</th>\n",
       "      <th>194</th>\n",
       "      <th>195</th>\n",
       "      <th>196</th>\n",
       "      <th>197</th>\n",
       "      <th>198</th>\n",
       "      <th>199</th>\n",
       "      <th>Annotation Class</th>\n",
       "    </tr>\n",
       "  </thead>\n",
       "  <tbody>\n",
       "    <tr>\n",
       "      <th>0</th>\n",
       "      <td>100</td>\n",
       "      <td>13</td>\n",
       "      <td>213</td>\n",
       "      <td>0.059449</td>\n",
       "      <td>0.055308</td>\n",
       "      <td>0.052035</td>\n",
       "      <td>0.049666</td>\n",
       "      <td>0.047961</td>\n",
       "      <td>0.046922</td>\n",
       "      <td>0.046801</td>\n",
       "      <td>...</td>\n",
       "      <td>0.029812</td>\n",
       "      <td>0.031902</td>\n",
       "      <td>0.033233</td>\n",
       "      <td>0.033981</td>\n",
       "      <td>0.034276</td>\n",
       "      <td>0.034166</td>\n",
       "      <td>0.033702</td>\n",
       "      <td>0.033134</td>\n",
       "      <td>0.032648</td>\n",
       "      <td>N</td>\n",
       "    </tr>\n",
       "    <tr>\n",
       "      <th>1</th>\n",
       "      <td>100</td>\n",
       "      <td>307</td>\n",
       "      <td>507</td>\n",
       "      <td>0.084239</td>\n",
       "      <td>0.087566</td>\n",
       "      <td>0.088956</td>\n",
       "      <td>0.088621</td>\n",
       "      <td>0.086919</td>\n",
       "      <td>0.084459</td>\n",
       "      <td>0.081823</td>\n",
       "      <td>...</td>\n",
       "      <td>0.020380</td>\n",
       "      <td>0.020170</td>\n",
       "      <td>0.020049</td>\n",
       "      <td>0.020272</td>\n",
       "      <td>0.020719</td>\n",
       "      <td>0.020971</td>\n",
       "      <td>0.020866</td>\n",
       "      <td>0.020622</td>\n",
       "      <td>0.020434</td>\n",
       "      <td>N</td>\n",
       "    </tr>\n",
       "    <tr>\n",
       "      <th>2</th>\n",
       "      <td>100</td>\n",
       "      <td>563</td>\n",
       "      <td>763</td>\n",
       "      <td>-0.006937</td>\n",
       "      <td>-0.005690</td>\n",
       "      <td>-0.005184</td>\n",
       "      <td>-0.005172</td>\n",
       "      <td>-0.005405</td>\n",
       "      <td>-0.005802</td>\n",
       "      <td>-0.006385</td>\n",
       "      <td>...</td>\n",
       "      <td>-0.083923</td>\n",
       "      <td>-0.084476</td>\n",
       "      <td>-0.084798</td>\n",
       "      <td>-0.084841</td>\n",
       "      <td>-0.084325</td>\n",
       "      <td>-0.082953</td>\n",
       "      <td>-0.080644</td>\n",
       "      <td>-0.077424</td>\n",
       "      <td>-0.073181</td>\n",
       "      <td>N</td>\n",
       "    </tr>\n",
       "    <tr>\n",
       "      <th>3</th>\n",
       "      <td>100</td>\n",
       "      <td>883</td>\n",
       "      <td>1083</td>\n",
       "      <td>0.072086</td>\n",
       "      <td>0.073128</td>\n",
       "      <td>0.073026</td>\n",
       "      <td>0.071802</td>\n",
       "      <td>0.069731</td>\n",
       "      <td>0.067336</td>\n",
       "      <td>0.065156</td>\n",
       "      <td>...</td>\n",
       "      <td>0.040917</td>\n",
       "      <td>0.040820</td>\n",
       "      <td>0.040605</td>\n",
       "      <td>0.040177</td>\n",
       "      <td>0.039328</td>\n",
       "      <td>0.038051</td>\n",
       "      <td>0.036671</td>\n",
       "      <td>0.035565</td>\n",
       "      <td>0.034817</td>\n",
       "      <td>N</td>\n",
       "    </tr>\n",
       "    <tr>\n",
       "      <th>4</th>\n",
       "      <td>100</td>\n",
       "      <td>1168</td>\n",
       "      <td>1368</td>\n",
       "      <td>0.084762</td>\n",
       "      <td>0.083995</td>\n",
       "      <td>0.082327</td>\n",
       "      <td>0.080127</td>\n",
       "      <td>0.077701</td>\n",
       "      <td>0.075216</td>\n",
       "      <td>0.072963</td>\n",
       "      <td>...</td>\n",
       "      <td>0.024691</td>\n",
       "      <td>0.025225</td>\n",
       "      <td>0.025977</td>\n",
       "      <td>0.027249</td>\n",
       "      <td>0.029211</td>\n",
       "      <td>0.031715</td>\n",
       "      <td>0.034364</td>\n",
       "      <td>0.036462</td>\n",
       "      <td>0.037443</td>\n",
       "      <td>N</td>\n",
       "    </tr>\n",
       "  </tbody>\n",
       "</table>\n",
       "<p>5 rows × 204 columns</p>\n",
       "</div>"
      ],
      "text/plain": [
       "   Record ID  Segment Start  Segment End         0         1         2  \\\n",
       "0        100             13          213  0.059449  0.055308  0.052035   \n",
       "1        100            307          507  0.084239  0.087566  0.088956   \n",
       "2        100            563          763 -0.006937 -0.005690 -0.005184   \n",
       "3        100            883         1083  0.072086  0.073128  0.073026   \n",
       "4        100           1168         1368  0.084762  0.083995  0.082327   \n",
       "\n",
       "          3         4         5         6  ...       191       192       193  \\\n",
       "0  0.049666  0.047961  0.046922  0.046801  ...  0.029812  0.031902  0.033233   \n",
       "1  0.088621  0.086919  0.084459  0.081823  ...  0.020380  0.020170  0.020049   \n",
       "2 -0.005172 -0.005405 -0.005802 -0.006385  ... -0.083923 -0.084476 -0.084798   \n",
       "3  0.071802  0.069731  0.067336  0.065156  ...  0.040917  0.040820  0.040605   \n",
       "4  0.080127  0.077701  0.075216  0.072963  ...  0.024691  0.025225  0.025977   \n",
       "\n",
       "        194       195       196       197       198       199  \\\n",
       "0  0.033981  0.034276  0.034166  0.033702  0.033134  0.032648   \n",
       "1  0.020272  0.020719  0.020971  0.020866  0.020622  0.020434   \n",
       "2 -0.084841 -0.084325 -0.082953 -0.080644 -0.077424 -0.073181   \n",
       "3  0.040177  0.039328  0.038051  0.036671  0.035565  0.034817   \n",
       "4  0.027249  0.029211  0.031715  0.034364  0.036462  0.037443   \n",
       "\n",
       "   Annotation Class  \n",
       "0                 N  \n",
       "1                 N  \n",
       "2                 N  \n",
       "3                 N  \n",
       "4                 N  \n",
       "\n",
       "[5 rows x 204 columns]"
      ]
     },
     "execution_count": 4,
     "metadata": {},
     "output_type": "execute_result"
    }
   ],
   "source": [
    "ecg_data.head()"
   ]
  },
  {
   "cell_type": "code",
   "execution_count": 5,
   "id": "9d5b88f5",
   "metadata": {},
   "outputs": [
    {
     "data": {
      "text/plain": [
       "array(['N', 'V', '/', 'L', 'R'], dtype=object)"
      ]
     },
     "execution_count": 5,
     "metadata": {},
     "output_type": "execute_result"
    }
   ],
   "source": [
    "ecg_data[\"Annotation Class\"].unique()"
   ]
  },
  {
   "cell_type": "code",
   "execution_count": 6,
   "id": "73a54b33",
   "metadata": {},
   "outputs": [
    {
     "data": {
      "text/plain": [
       "5"
      ]
     },
     "execution_count": 6,
     "metadata": {},
     "output_type": "execute_result"
    }
   ],
   "source": [
    "ecg_data[\"Annotation Class\"].nunique()"
   ]
  },
  {
   "cell_type": "code",
   "execution_count": 7,
   "id": "384dd746",
   "metadata": {},
   "outputs": [
    {
     "data": {
      "text/plain": [
       "Annotation Class\n",
       "N    73439\n",
       "L     8068\n",
       "R     7255\n",
       "V     6793\n",
       "/     3619\n",
       "Name: count, dtype: int64"
      ]
     },
     "execution_count": 7,
     "metadata": {},
     "output_type": "execute_result"
    }
   ],
   "source": [
    "ecg_data[\"Annotation Class\"].value_counts()"
   ]
  },
  {
   "cell_type": "markdown",
   "id": "df26432a",
   "metadata": {},
   "source": [
    "## Preprocessing"
   ]
  },
  {
   "cell_type": "markdown",
   "id": "49c9a1ea",
   "metadata": {},
   "source": [
    "### Converting Non Numeric Column to Numeric discontinuous Columns"
   ]
  },
  {
   "cell_type": "code",
   "execution_count": 8,
   "id": "a6f275ee",
   "metadata": {},
   "outputs": [],
   "source": [
    "annotation_dict = dict()\n",
    "for i, symbol in enumerate(ecg_data[\"Annotation Class\"].unique()):\n",
    "    annotation_dict[symbol] = i + 1\n",
    "ecg_data[\"Annotation Class Numeric\"] = ecg_data[\"Annotation Class\"].apply(\n",
    "    lambda x: annotation_dict[x]\n",
    ")"
   ]
  },
  {
   "cell_type": "code",
   "execution_count": 9,
   "id": "61efef6c",
   "metadata": {},
   "outputs": [
    {
     "data": {
      "text/html": [
       "<div>\n",
       "<style scoped>\n",
       "    .dataframe tbody tr th:only-of-type {\n",
       "        vertical-align: middle;\n",
       "    }\n",
       "\n",
       "    .dataframe tbody tr th {\n",
       "        vertical-align: top;\n",
       "    }\n",
       "\n",
       "    .dataframe thead th {\n",
       "        text-align: right;\n",
       "    }\n",
       "</style>\n",
       "<table border=\"1\" class=\"dataframe\">\n",
       "  <thead>\n",
       "    <tr style=\"text-align: right;\">\n",
       "      <th></th>\n",
       "      <th>Record ID</th>\n",
       "      <th>Segment Start</th>\n",
       "      <th>Segment End</th>\n",
       "      <th>0</th>\n",
       "      <th>1</th>\n",
       "      <th>2</th>\n",
       "      <th>3</th>\n",
       "      <th>4</th>\n",
       "      <th>5</th>\n",
       "      <th>6</th>\n",
       "      <th>...</th>\n",
       "      <th>192</th>\n",
       "      <th>193</th>\n",
       "      <th>194</th>\n",
       "      <th>195</th>\n",
       "      <th>196</th>\n",
       "      <th>197</th>\n",
       "      <th>198</th>\n",
       "      <th>199</th>\n",
       "      <th>Annotation Class</th>\n",
       "      <th>Annotation Class Numeric</th>\n",
       "    </tr>\n",
       "  </thead>\n",
       "  <tbody>\n",
       "    <tr>\n",
       "      <th>0</th>\n",
       "      <td>100</td>\n",
       "      <td>13</td>\n",
       "      <td>213</td>\n",
       "      <td>0.059449</td>\n",
       "      <td>0.055308</td>\n",
       "      <td>0.052035</td>\n",
       "      <td>0.049666</td>\n",
       "      <td>0.047961</td>\n",
       "      <td>0.046922</td>\n",
       "      <td>0.046801</td>\n",
       "      <td>...</td>\n",
       "      <td>0.031902</td>\n",
       "      <td>0.033233</td>\n",
       "      <td>0.033981</td>\n",
       "      <td>0.034276</td>\n",
       "      <td>0.034166</td>\n",
       "      <td>0.033702</td>\n",
       "      <td>0.033134</td>\n",
       "      <td>0.032648</td>\n",
       "      <td>N</td>\n",
       "      <td>1</td>\n",
       "    </tr>\n",
       "    <tr>\n",
       "      <th>1</th>\n",
       "      <td>100</td>\n",
       "      <td>307</td>\n",
       "      <td>507</td>\n",
       "      <td>0.084239</td>\n",
       "      <td>0.087566</td>\n",
       "      <td>0.088956</td>\n",
       "      <td>0.088621</td>\n",
       "      <td>0.086919</td>\n",
       "      <td>0.084459</td>\n",
       "      <td>0.081823</td>\n",
       "      <td>...</td>\n",
       "      <td>0.020170</td>\n",
       "      <td>0.020049</td>\n",
       "      <td>0.020272</td>\n",
       "      <td>0.020719</td>\n",
       "      <td>0.020971</td>\n",
       "      <td>0.020866</td>\n",
       "      <td>0.020622</td>\n",
       "      <td>0.020434</td>\n",
       "      <td>N</td>\n",
       "      <td>1</td>\n",
       "    </tr>\n",
       "    <tr>\n",
       "      <th>2</th>\n",
       "      <td>100</td>\n",
       "      <td>563</td>\n",
       "      <td>763</td>\n",
       "      <td>-0.006937</td>\n",
       "      <td>-0.005690</td>\n",
       "      <td>-0.005184</td>\n",
       "      <td>-0.005172</td>\n",
       "      <td>-0.005405</td>\n",
       "      <td>-0.005802</td>\n",
       "      <td>-0.006385</td>\n",
       "      <td>...</td>\n",
       "      <td>-0.084476</td>\n",
       "      <td>-0.084798</td>\n",
       "      <td>-0.084841</td>\n",
       "      <td>-0.084325</td>\n",
       "      <td>-0.082953</td>\n",
       "      <td>-0.080644</td>\n",
       "      <td>-0.077424</td>\n",
       "      <td>-0.073181</td>\n",
       "      <td>N</td>\n",
       "      <td>1</td>\n",
       "    </tr>\n",
       "    <tr>\n",
       "      <th>3</th>\n",
       "      <td>100</td>\n",
       "      <td>883</td>\n",
       "      <td>1083</td>\n",
       "      <td>0.072086</td>\n",
       "      <td>0.073128</td>\n",
       "      <td>0.073026</td>\n",
       "      <td>0.071802</td>\n",
       "      <td>0.069731</td>\n",
       "      <td>0.067336</td>\n",
       "      <td>0.065156</td>\n",
       "      <td>...</td>\n",
       "      <td>0.040820</td>\n",
       "      <td>0.040605</td>\n",
       "      <td>0.040177</td>\n",
       "      <td>0.039328</td>\n",
       "      <td>0.038051</td>\n",
       "      <td>0.036671</td>\n",
       "      <td>0.035565</td>\n",
       "      <td>0.034817</td>\n",
       "      <td>N</td>\n",
       "      <td>1</td>\n",
       "    </tr>\n",
       "    <tr>\n",
       "      <th>4</th>\n",
       "      <td>100</td>\n",
       "      <td>1168</td>\n",
       "      <td>1368</td>\n",
       "      <td>0.084762</td>\n",
       "      <td>0.083995</td>\n",
       "      <td>0.082327</td>\n",
       "      <td>0.080127</td>\n",
       "      <td>0.077701</td>\n",
       "      <td>0.075216</td>\n",
       "      <td>0.072963</td>\n",
       "      <td>...</td>\n",
       "      <td>0.025225</td>\n",
       "      <td>0.025977</td>\n",
       "      <td>0.027249</td>\n",
       "      <td>0.029211</td>\n",
       "      <td>0.031715</td>\n",
       "      <td>0.034364</td>\n",
       "      <td>0.036462</td>\n",
       "      <td>0.037443</td>\n",
       "      <td>N</td>\n",
       "      <td>1</td>\n",
       "    </tr>\n",
       "  </tbody>\n",
       "</table>\n",
       "<p>5 rows × 205 columns</p>\n",
       "</div>"
      ],
      "text/plain": [
       "   Record ID  Segment Start  Segment End         0         1         2  \\\n",
       "0        100             13          213  0.059449  0.055308  0.052035   \n",
       "1        100            307          507  0.084239  0.087566  0.088956   \n",
       "2        100            563          763 -0.006937 -0.005690 -0.005184   \n",
       "3        100            883         1083  0.072086  0.073128  0.073026   \n",
       "4        100           1168         1368  0.084762  0.083995  0.082327   \n",
       "\n",
       "          3         4         5         6  ...       192       193       194  \\\n",
       "0  0.049666  0.047961  0.046922  0.046801  ...  0.031902  0.033233  0.033981   \n",
       "1  0.088621  0.086919  0.084459  0.081823  ...  0.020170  0.020049  0.020272   \n",
       "2 -0.005172 -0.005405 -0.005802 -0.006385  ... -0.084476 -0.084798 -0.084841   \n",
       "3  0.071802  0.069731  0.067336  0.065156  ...  0.040820  0.040605  0.040177   \n",
       "4  0.080127  0.077701  0.075216  0.072963  ...  0.025225  0.025977  0.027249   \n",
       "\n",
       "        195       196       197       198       199  Annotation Class  \\\n",
       "0  0.034276  0.034166  0.033702  0.033134  0.032648                 N   \n",
       "1  0.020719  0.020971  0.020866  0.020622  0.020434                 N   \n",
       "2 -0.084325 -0.082953 -0.080644 -0.077424 -0.073181                 N   \n",
       "3  0.039328  0.038051  0.036671  0.035565  0.034817                 N   \n",
       "4  0.029211  0.031715  0.034364  0.036462  0.037443                 N   \n",
       "\n",
       "   Annotation Class Numeric  \n",
       "0                         1  \n",
       "1                         1  \n",
       "2                         1  \n",
       "3                         1  \n",
       "4                         1  \n",
       "\n",
       "[5 rows x 205 columns]"
      ]
     },
     "execution_count": 9,
     "metadata": {},
     "output_type": "execute_result"
    }
   ],
   "source": [
    "ecg_data.head()"
   ]
  },
  {
   "cell_type": "code",
   "execution_count": 10,
   "id": "0359677f",
   "metadata": {},
   "outputs": [],
   "source": [
    "x_columns = [str(i) for i in range(0, 200)]"
   ]
  },
  {
   "cell_type": "markdown",
   "id": "c14d5839",
   "metadata": {},
   "source": [
    "## What each Annotation looks like?"
   ]
  },
  {
   "cell_type": "code",
   "execution_count": 11,
   "id": "d9801ade",
   "metadata": {},
   "outputs": [
    {
     "data": {
      "image/png": "[encoded data removed]",
      "text/plain": [
       "<Figure size 1000x800 with 1 Axes>"
      ]
     },
     "metadata": {},
     "output_type": "display_data"
    },
    {
     "data": {
      "image/png": "[encoded data removed]",
      "text/plain": [
       "<Figure size 1000x800 with 1 Axes>"
      ]
     },
     "metadata": {},
     "output_type": "display_data"
    },
    {
     "data": {
      "image/png": "[encoded data removed]",
      "text/plain": [
       "<Figure size 1000x800 with 1 Axes>"
      ]
     },
     "metadata": {},
     "output_type": "display_data"
    },
    {
     "data": {
      "image/png": "[encoded data removed]",
      "text/plain": [
       "<Figure size 1000x800 with 1 Axes>"
      ]
     },
     "metadata": {},
     "output_type": "display_data"
    },
    {
     "data": {
      "image/png": "[encoded data removed]",
      "text/plain": [
       "<Figure size 1000x800 with 1 Axes>"
      ]
     },
     "metadata": {},
     "output_type": "display_data"
    }
   ],
   "source": [
    "for symbol in ecg_data[\"Annotation Class\"].unique():\n",
    "    readings = (\n",
    "        ecg_data[ecg_data[\"Annotation Class\"] == symbol].head(1)[x_columns].values[0]\n",
    "    )\n",
    "    plt.figure(figsize=(10, 8))\n",
    "    plt.title(label=symbol)\n",
    "    plt.plot(readings)\n",
    "    plt.show()"
   ]
  },
  {
   "cell_type": "markdown",
   "id": "2f5aee18",
   "metadata": {},
   "source": [
    "## Splitting into Test and Train Data"
   ]
  },
  {
   "cell_type": "code",
   "execution_count": 12,
   "id": "ed55e0b0",
   "metadata": {},
   "outputs": [],
   "source": [
    "from sklearn.preprocessing import MinMaxScaler"
   ]
  },
  {
   "cell_type": "code",
   "execution_count": 13,
   "id": "44884a8d",
   "metadata": {},
   "outputs": [],
   "source": [
    "from sklearn.pipeline import Pipeline"
   ]
  },
  {
   "cell_type": "code",
   "execution_count": 14,
   "id": "6fb4943a",
   "metadata": {},
   "outputs": [],
   "source": [
    "from sklearn.model_selection import train_test_split"
   ]
  },
  {
   "cell_type": "code",
   "execution_count": 15,
   "id": "3313f494",
   "metadata": {},
   "outputs": [],
   "source": [
    "X = ecg_data[x_columns].values"
   ]
  },
  {
   "cell_type": "code",
   "execution_count": 16,
   "id": "4da6fb67",
   "metadata": {},
   "outputs": [],
   "source": [
    "y = ecg_data[\"Annotation Class Numeric\"].values"
   ]
  },
  {
   "cell_type": "code",
   "execution_count": 17,
   "id": "9caaf456",
   "metadata": {},
   "outputs": [],
   "source": [
    "X_train, X_test, y_train, y_test = train_test_split(\n",
    "    X, y, test_size=0.2, random_state=101, stratify=y, shuffle=True\n",
    ")\n",
    "X_train_1, X_val, y_train_1, y_val = train_test_split(\n",
    "    X_train, y_train, test_size=0.2, stratify=y_train, shuffle=True, random_state=101\n",
    ")"
   ]
  },
  {
   "cell_type": "code",
   "execution_count": 18,
   "id": "46b59cff",
   "metadata": {},
   "outputs": [
    {
     "data": {
      "text/plain": [
       "(79339, 200)"
      ]
     },
     "execution_count": 18,
     "metadata": {},
     "output_type": "execute_result"
    }
   ],
   "source": [
    "X_train.shape"
   ]
  },
  {
   "cell_type": "code",
   "execution_count": 19,
   "id": "18a81a0a",
   "metadata": {},
   "outputs": [
    {
     "data": {
      "text/plain": [
       "(79339,)"
      ]
     },
     "execution_count": 19,
     "metadata": {},
     "output_type": "execute_result"
    }
   ],
   "source": [
    "y_train.shape"
   ]
  },
  {
   "cell_type": "code",
   "execution_count": 20,
   "id": "2e2d9e3a",
   "metadata": {},
   "outputs": [
    {
     "data": {
      "text/plain": [
       "(19835, 200)"
      ]
     },
     "execution_count": 20,
     "metadata": {},
     "output_type": "execute_result"
    }
   ],
   "source": [
    "X_test.shape"
   ]
  },
  {
   "cell_type": "code",
   "execution_count": 21,
   "id": "ae446530",
   "metadata": {},
   "outputs": [
    {
     "data": {
      "text/plain": [
       "(19835,)"
      ]
     },
     "execution_count": 21,
     "metadata": {},
     "output_type": "execute_result"
    }
   ],
   "source": [
    "y_test.shape"
   ]
  },
  {
   "cell_type": "markdown",
   "id": "c7eb71e0",
   "metadata": {},
   "source": [
    "## Logistic Regression"
   ]
  },
  {
   "cell_type": "code",
   "execution_count": 22,
   "id": "cb2688f3",
   "metadata": {},
   "outputs": [],
   "source": [
    "from sklearn.linear_model import LogisticRegression\n",
    "from sklearn.model_selection import GridSearchCV"
   ]
  },
  {
   "cell_type": "code",
   "execution_count": 23,
   "id": "bca36afa",
   "metadata": {},
   "outputs": [],
   "source": [
    "from skopt import BayesSearchCV"
   ]
  },
  {
   "cell_type": "code",
   "execution_count": 24,
   "id": "43f409ea",
   "metadata": {},
   "outputs": [],
   "source": [
    "lr_params = {\"multi_class\": [\"ovr\", \"multinomial\", \"auto\"]}"
   ]
  },
  {
   "cell_type": "code",
   "execution_count": 25,
   "id": "68399826",
   "metadata": {},
   "outputs": [],
   "source": [
    "pipeline = Pipeline(\n",
    "    [\n",
    "        (\"minmax\", MinMaxScaler()),\n",
    "        (\"lr\", GridSearchCV(LogisticRegression(), lr_params, verbose=3)),\n",
    "    ]\n",
    ")"
   ]
  },
  {
   "cell_type": "code",
   "execution_count": 26,
   "id": "ca8cecf4",
   "metadata": {},
   "outputs": [
    {
     "name": "stdout",
     "output_type": "stream",
     "text": [
      "Fitting 5 folds for each of 3 candidates, totalling 15 fits\n"
     ]
    },
    {
     "name": "stderr",
     "output_type": "stream",
     "text": [
      "/home/alton/.local/lib/python3.9/site-packages/sklearn/linear_model/_logistic.py:458: ConvergenceWarning: lbfgs failed to converge (status=1):\n",
      "STOP: TOTAL NO. of ITERATIONS REACHED LIMIT.\n",
      "\n",
      "Increase the number of iterations (max_iter) or scale the data as shown in:\n",
      "    https://scikit-learn.org/stable/modules/preprocessing.html\n",
      "Please also refer to the documentation for alternative solver options:\n",
      "    https://scikit-learn.org/stable/modules/linear_model.html#logistic-regression\n",
      "  n_iter_i = _check_optimize_result(\n"
     ]
    },
    {
     "name": "stdout",
     "output_type": "stream",
     "text": [
      "[CV 1/5] END ...................multi_class=ovr;, score=0.839 total time=  11.4s\n"
     ]
    },
    {
     "name": "stderr",
     "output_type": "stream",
     "text": [
      "/home/alton/.local/lib/python3.9/site-packages/sklearn/linear_model/_logistic.py:458: ConvergenceWarning: lbfgs failed to converge (status=1):\n",
      "STOP: TOTAL NO. of ITERATIONS REACHED LIMIT.\n",
      "\n",
      "Increase the number of iterations (max_iter) or scale the data as shown in:\n",
      "    https://scikit-learn.org/stable/modules/preprocessing.html\n",
      "Please also refer to the documentation for alternative solver options:\n",
      "    https://scikit-learn.org/stable/modules/linear_model.html#logistic-regression\n",
      "  n_iter_i = _check_optimize_result(\n"
     ]
    },
    {
     "name": "stdout",
     "output_type": "stream",
     "text": [
      "[CV 2/5] END ...................multi_class=ovr;, score=0.843 total time=  13.2s\n"
     ]
    },
    {
     "name": "stderr",
     "output_type": "stream",
     "text": [
      "/home/alton/.local/lib/python3.9/site-packages/sklearn/linear_model/_logistic.py:458: ConvergenceWarning: lbfgs failed to converge (status=1):\n",
      "STOP: TOTAL NO. of ITERATIONS REACHED LIMIT.\n",
      "\n",
      "Increase the number of iterations (max_iter) or scale the data as shown in:\n",
      "    https://scikit-learn.org/stable/modules/preprocessing.html\n",
      "Please also refer to the documentation for alternative solver options:\n",
      "    https://scikit-learn.org/stable/modules/linear_model.html#logistic-regression\n",
      "  n_iter_i = _check_optimize_result(\n"
     ]
    },
    {
     "name": "stdout",
     "output_type": "stream",
     "text": [
      "[CV 3/5] END ...................multi_class=ovr;, score=0.843 total time=  10.8s\n"
     ]
    },
    {
     "name": "stderr",
     "output_type": "stream",
     "text": [
      "/home/alton/.local/lib/python3.9/site-packages/sklearn/linear_model/_logistic.py:458: ConvergenceWarning: lbfgs failed to converge (status=1):\n",
      "STOP: TOTAL NO. of ITERATIONS REACHED LIMIT.\n",
      "\n",
      "Increase the number of iterations (max_iter) or scale the data as shown in:\n",
      "    https://scikit-learn.org/stable/modules/preprocessing.html\n",
      "Please also refer to the documentation for alternative solver options:\n",
      "    https://scikit-learn.org/stable/modules/linear_model.html#logistic-regression\n",
      "  n_iter_i = _check_optimize_result(\n"
     ]
    },
    {
     "name": "stdout",
     "output_type": "stream",
     "text": [
      "[CV 4/5] END ...................multi_class=ovr;, score=0.845 total time=  11.3s\n"
     ]
    },
    {
     "name": "stderr",
     "output_type": "stream",
     "text": [
      "/home/alton/.local/lib/python3.9/site-packages/sklearn/linear_model/_logistic.py:458: ConvergenceWarning: lbfgs failed to converge (status=1):\n",
      "STOP: TOTAL NO. of ITERATIONS REACHED LIMIT.\n",
      "\n",
      "Increase the number of iterations (max_iter) or scale the data as shown in:\n",
      "    https://scikit-learn.org/stable/modules/preprocessing.html\n",
      "Please also refer to the documentation for alternative solver options:\n",
      "    https://scikit-learn.org/stable/modules/linear_model.html#logistic-regression\n",
      "  n_iter_i = _check_optimize_result(\n"
     ]
    },
    {
     "name": "stdout",
     "output_type": "stream",
     "text": [
      "[CV 5/5] END ...................multi_class=ovr;, score=0.839 total time=  12.8s\n"
     ]
    },
    {
     "name": "stderr",
     "output_type": "stream",
     "text": [
      "/home/alton/.local/lib/python3.9/site-packages/sklearn/linear_model/_logistic.py:458: ConvergenceWarning: lbfgs failed to converge (status=1):\n",
      "STOP: TOTAL NO. of ITERATIONS REACHED LIMIT.\n",
      "\n",
      "Increase the number of iterations (max_iter) or scale the data as shown in:\n",
      "    https://scikit-learn.org/stable/modules/preprocessing.html\n",
      "Please also refer to the documentation for alternative solver options:\n",
      "    https://scikit-learn.org/stable/modules/linear_model.html#logistic-regression\n",
      "  n_iter_i = _check_optimize_result(\n"
     ]
    },
    {
     "name": "stdout",
     "output_type": "stream",
     "text": [
      "[CV 1/5] END ...........multi_class=multinomial;, score=0.840 total time=  16.8s\n"
     ]
    },
    {
     "name": "stderr",
     "output_type": "stream",
     "text": [
      "/home/alton/.local/lib/python3.9/site-packages/sklearn/linear_model/_logistic.py:458: ConvergenceWarning: lbfgs failed to converge (status=1):\n",
      "STOP: TOTAL NO. of ITERATIONS REACHED LIMIT.\n",
      "\n",
      "Increase the number of iterations (max_iter) or scale the data as shown in:\n",
      "    https://scikit-learn.org/stable/modules/preprocessing.html\n",
      "Please also refer to the documentation for alternative solver options:\n",
      "    https://scikit-learn.org/stable/modules/linear_model.html#logistic-regression\n",
      "  n_iter_i = _check_optimize_result(\n"
     ]
    },
    {
     "name": "stdout",
     "output_type": "stream",
     "text": [
      "[CV 2/5] END ...........multi_class=multinomial;, score=0.842 total time=   9.1s\n"
     ]
    },
    {
     "name": "stderr",
     "output_type": "stream",
     "text": [
      "/home/alton/.local/lib/python3.9/site-packages/sklearn/linear_model/_logistic.py:458: ConvergenceWarning: lbfgs failed to converge (status=1):\n",
      "STOP: TOTAL NO. of ITERATIONS REACHED LIMIT.\n",
      "\n",
      "Increase the number of iterations (max_iter) or scale the data as shown in:\n",
      "    https://scikit-learn.org/stable/modules/preprocessing.html\n",
      "Please also refer to the documentation for alternative solver options:\n",
      "    https://scikit-learn.org/stable/modules/linear_model.html#logistic-regression\n",
      "  n_iter_i = _check_optimize_result(\n"
     ]
    },
    {
     "name": "stdout",
     "output_type": "stream",
     "text": [
      "[CV 3/5] END ...........multi_class=multinomial;, score=0.840 total time=  11.6s\n"
     ]
    },
    {
     "name": "stderr",
     "output_type": "stream",
     "text": [
      "/home/alton/.local/lib/python3.9/site-packages/sklearn/linear_model/_logistic.py:458: ConvergenceWarning: lbfgs failed to converge (status=1):\n",
      "STOP: TOTAL NO. of ITERATIONS REACHED LIMIT.\n",
      "\n",
      "Increase the number of iterations (max_iter) or scale the data as shown in:\n",
      "    https://scikit-learn.org/stable/modules/preprocessing.html\n",
      "Please also refer to the documentation for alternative solver options:\n",
      "    https://scikit-learn.org/stable/modules/linear_model.html#logistic-regression\n",
      "  n_iter_i = _check_optimize_result(\n"
     ]
    },
    {
     "name": "stdout",
     "output_type": "stream",
     "text": [
      "[CV 4/5] END ...........multi_class=multinomial;, score=0.838 total time=  10.5s\n"
     ]
    },
    {
     "name": "stderr",
     "output_type": "stream",
     "text": [
      "/home/alton/.local/lib/python3.9/site-packages/sklearn/linear_model/_logistic.py:458: ConvergenceWarning: lbfgs failed to converge (status=1):\n",
      "STOP: TOTAL NO. of ITERATIONS REACHED LIMIT.\n",
      "\n",
      "Increase the number of iterations (max_iter) or scale the data as shown in:\n",
      "    https://scikit-learn.org/stable/modules/preprocessing.html\n",
      "Please also refer to the documentation for alternative solver options:\n",
      "    https://scikit-learn.org/stable/modules/linear_model.html#logistic-regression\n",
      "  n_iter_i = _check_optimize_result(\n"
     ]
    },
    {
     "name": "stdout",
     "output_type": "stream",
     "text": [
      "[CV 5/5] END ...........multi_class=multinomial;, score=0.832 total time=  11.0s\n"
     ]
    },
    {
     "name": "stderr",
     "output_type": "stream",
     "text": [
      "/home/alton/.local/lib/python3.9/site-packages/sklearn/linear_model/_logistic.py:458: ConvergenceWarning: lbfgs failed to converge (status=1):\n",
      "STOP: TOTAL NO. of ITERATIONS REACHED LIMIT.\n",
      "\n",
      "Increase the number of iterations (max_iter) or scale the data as shown in:\n",
      "    https://scikit-learn.org/stable/modules/preprocessing.html\n",
      "Please also refer to the documentation for alternative solver options:\n",
      "    https://scikit-learn.org/stable/modules/linear_model.html#logistic-regression\n",
      "  n_iter_i = _check_optimize_result(\n"
     ]
    },
    {
     "name": "stdout",
     "output_type": "stream",
     "text": [
      "[CV 1/5] END ..................multi_class=auto;, score=0.840 total time=  16.4s\n"
     ]
    },
    {
     "name": "stderr",
     "output_type": "stream",
     "text": [
      "/home/alton/.local/lib/python3.9/site-packages/sklearn/linear_model/_logistic.py:458: ConvergenceWarning: lbfgs failed to converge (status=1):\n",
      "STOP: TOTAL NO. of ITERATIONS REACHED LIMIT.\n",
      "\n",
      "Increase the number of iterations (max_iter) or scale the data as shown in:\n",
      "    https://scikit-learn.org/stable/modules/preprocessing.html\n",
      "Please also refer to the documentation for alternative solver options:\n",
      "    https://scikit-learn.org/stable/modules/linear_model.html#logistic-regression\n",
      "  n_iter_i = _check_optimize_result(\n"
     ]
    },
    {
     "name": "stdout",
     "output_type": "stream",
     "text": [
      "[CV 2/5] END ..................multi_class=auto;, score=0.842 total time=  14.3s\n"
     ]
    },
    {
     "name": "stderr",
     "output_type": "stream",
     "text": [
      "/home/alton/.local/lib/python3.9/site-packages/sklearn/linear_model/_logistic.py:458: ConvergenceWarning: lbfgs failed to converge (status=1):\n",
      "STOP: TOTAL NO. of ITERATIONS REACHED LIMIT.\n",
      "\n",
      "Increase the number of iterations (max_iter) or scale the data as shown in:\n",
      "    https://scikit-learn.org/stable/modules/preprocessing.html\n",
      "Please also refer to the documentation for alternative solver options:\n",
      "    https://scikit-learn.org/stable/modules/linear_model.html#logistic-regression\n",
      "  n_iter_i = _check_optimize_result(\n"
     ]
    },
    {
     "name": "stdout",
     "output_type": "stream",
     "text": [
      "[CV 3/5] END ..................multi_class=auto;, score=0.840 total time=  11.4s\n"
     ]
    },
    {
     "name": "stderr",
     "output_type": "stream",
     "text": [
      "/home/alton/.local/lib/python3.9/site-packages/sklearn/linear_model/_logistic.py:458: ConvergenceWarning: lbfgs failed to converge (status=1):\n",
      "STOP: TOTAL NO. of ITERATIONS REACHED LIMIT.\n",
      "\n",
      "Increase the number of iterations (max_iter) or scale the data as shown in:\n",
      "    https://scikit-learn.org/stable/modules/preprocessing.html\n",
      "Please also refer to the documentation for alternative solver options:\n",
      "    https://scikit-learn.org/stable/modules/linear_model.html#logistic-regression\n",
      "  n_iter_i = _check_optimize_result(\n"
     ]
    },
    {
     "name": "stdout",
     "output_type": "stream",
     "text": [
      "[CV 4/5] END ..................multi_class=auto;, score=0.838 total time=  12.4s\n"
     ]
    },
    {
     "name": "stderr",
     "output_type": "stream",
     "text": [
      "/home/alton/.local/lib/python3.9/site-packages/sklearn/linear_model/_logistic.py:458: ConvergenceWarning: lbfgs failed to converge (status=1):\n",
      "STOP: TOTAL NO. of ITERATIONS REACHED LIMIT.\n",
      "\n",
      "Increase the number of iterations (max_iter) or scale the data as shown in:\n",
      "    https://scikit-learn.org/stable/modules/preprocessing.html\n",
      "Please also refer to the documentation for alternative solver options:\n",
      "    https://scikit-learn.org/stable/modules/linear_model.html#logistic-regression\n",
      "  n_iter_i = _check_optimize_result(\n"
     ]
    },
    {
     "name": "stdout",
     "output_type": "stream",
     "text": [
      "[CV 5/5] END ..................multi_class=auto;, score=0.832 total time=  12.7s\n"
     ]
    },
    {
     "name": "stderr",
     "output_type": "stream",
     "text": [
      "/home/alton/.local/lib/python3.9/site-packages/sklearn/linear_model/_logistic.py:458: ConvergenceWarning: lbfgs failed to converge (status=1):\n",
      "STOP: TOTAL NO. of ITERATIONS REACHED LIMIT.\n",
      "\n",
      "Increase the number of iterations (max_iter) or scale the data as shown in:\n",
      "    https://scikit-learn.org/stable/modules/preprocessing.html\n",
      "Please also refer to the documentation for alternative solver options:\n",
      "    https://scikit-learn.org/stable/modules/linear_model.html#logistic-regression\n",
      "  n_iter_i = _check_optimize_result(\n"
     ]
    },
    {
     "data": {
      "text/html": [
       "<style>#sk-container-id-1 {color: black;background-color: white;}#sk-container-id-1 pre{padding: 0;}#sk-container-id-1 div.sk-toggleable {background-color: white;}#sk-container-id-1 label.sk-toggleable__label {cursor: pointer;display: block;width: 100%;margin-bottom: 0;padding: 0.3em;box-sizing: border-box;text-align: center;}#sk-container-id-1 label.sk-toggleable__label-arrow:before {content: \"▸\";float: left;margin-right: 0.25em;color: #696969;}#sk-container-id-1 label.sk-toggleable__label-arrow:hover:before {color: black;}#sk-container-id-1 div.sk-estimator:hover label.sk-toggleable__label-arrow:before {color: black;}#sk-container-id-1 div.sk-toggleable__content {max-height: 0;max-width: 0;overflow: hidden;text-align: left;background-color: #f0f8ff;}#sk-container-id-1 div.sk-toggleable__content pre {margin: 0.2em;color: black;border-radius: 0.25em;background-color: #f0f8ff;}#sk-container-id-1 input.sk-toggleable__control:checked~div.sk-toggleable__content {max-height: 200px;max-width: 100%;overflow: auto;}#sk-container-id-1 input.sk-toggleable__control:checked~label.sk-toggleable__label-arrow:before {content: \"▾\";}#sk-container-id-1 div.sk-estimator input.sk-toggleable__control:checked~label.sk-toggleable__label {background-color: #d4ebff;}#sk-container-id-1 div.sk-label input.sk-toggleable__control:checked~label.sk-toggleable__label {background-color: #d4ebff;}#sk-container-id-1 input.sk-hidden--visually {border: 0;clip: rect(1px 1px 1px 1px);clip: rect(1px, 1px, 1px, 1px);height: 1px;margin: -1px;overflow: hidden;padding: 0;position: absolute;width: 1px;}#sk-container-id-1 div.sk-estimator {font-family: monospace;background-color: #f0f8ff;border: 1px dotted black;border-radius: 0.25em;box-sizing: border-box;margin-bottom: 0.5em;}#sk-container-id-1 div.sk-estimator:hover {background-color: #d4ebff;}#sk-container-id-1 div.sk-parallel-item::after {content: \"\";width: 100%;border-bottom: 1px solid gray;flex-grow: 1;}#sk-container-id-1 div.sk-label:hover label.sk-toggleable__label {background-color: #d4ebff;}#sk-container-id-1 div.sk-serial::before {content: \"\";position: absolute;border-left: 1px solid gray;box-sizing: border-box;top: 0;bottom: 0;left: 50%;z-index: 0;}#sk-container-id-1 div.sk-serial {display: flex;flex-direction: column;align-items: center;background-color: white;padding-right: 0.2em;padding-left: 0.2em;position: relative;}#sk-container-id-1 div.sk-item {position: relative;z-index: 1;}#sk-container-id-1 div.sk-parallel {display: flex;align-items: stretch;justify-content: center;background-color: white;position: relative;}#sk-container-id-1 div.sk-item::before, #sk-container-id-1 div.sk-parallel-item::before {content: \"\";position: absolute;border-left: 1px solid gray;box-sizing: border-box;top: 0;bottom: 0;left: 50%;z-index: -1;}#sk-container-id-1 div.sk-parallel-item {display: flex;flex-direction: column;z-index: 1;position: relative;background-color: white;}#sk-container-id-1 div.sk-parallel-item:first-child::after {align-self: flex-end;width: 50%;}#sk-container-id-1 div.sk-parallel-item:last-child::after {align-self: flex-start;width: 50%;}#sk-container-id-1 div.sk-parallel-item:only-child::after {width: 0;}#sk-container-id-1 div.sk-dashed-wrapped {border: 1px dashed gray;margin: 0 0.4em 0.5em 0.4em;box-sizing: border-box;padding-bottom: 0.4em;background-color: white;}#sk-container-id-1 div.sk-label label {font-family: monospace;font-weight: bold;display: inline-block;line-height: 1.2em;}#sk-container-id-1 div.sk-label-container {text-align: center;}#sk-container-id-1 div.sk-container {/* jupyter's `normalize.less` sets `[hidden] { display: none; }` but bootstrap.min.css set `[hidden] { display: none !important; }` so we also need the `!important` here to be able to override the default hidden behavior on the sphinx rendered scikit-learn.org. See: https://github.com/scikit-learn/scikit-learn/issues/21755 */display: inline-block !important;position: relative;}#sk-container-id-1 div.sk-text-repr-fallback {display: none;}</style><div id=\"sk-container-id-1\" class=\"sk-top-container\"><div class=\"sk-text-repr-fallback\"><pre>Pipeline(steps=[(&#x27;minmax&#x27;, MinMaxScaler()),\n",
       "                (&#x27;lr&#x27;,\n",
       "                 GridSearchCV(estimator=LogisticRegression(),\n",
       "                              param_grid={&#x27;multi_class&#x27;: [&#x27;ovr&#x27;, &#x27;multinomial&#x27;,\n",
       "                                                          &#x27;auto&#x27;]},\n",
       "                              verbose=3))])</pre><b>In a Jupyter environment, please rerun this cell to show the HTML representation or trust the notebook. <br />On GitHub, the HTML representation is unable to render, please try loading this page with nbviewer.org.</b></div><div class=\"sk-container\" hidden><div class=\"sk-item sk-dashed-wrapped\"><div class=\"sk-label-container\"><div class=\"sk-label sk-toggleable\"><input class=\"sk-toggleable__control sk-hidden--visually\" id=\"sk-estimator-id-1\" type=\"checkbox\" ><label for=\"sk-estimator-id-1\" class=\"sk-toggleable__label sk-toggleable__label-arrow\">Pipeline</label><div class=\"sk-toggleable__content\"><pre>Pipeline(steps=[(&#x27;minmax&#x27;, MinMaxScaler()),\n",
       "                (&#x27;lr&#x27;,\n",
       "                 GridSearchCV(estimator=LogisticRegression(),\n",
       "                              param_grid={&#x27;multi_class&#x27;: [&#x27;ovr&#x27;, &#x27;multinomial&#x27;,\n",
       "                                                          &#x27;auto&#x27;]},\n",
       "                              verbose=3))])</pre></div></div></div><div class=\"sk-serial\"><div class=\"sk-item\"><div class=\"sk-estimator sk-toggleable\"><input class=\"sk-toggleable__control sk-hidden--visually\" id=\"sk-estimator-id-2\" type=\"checkbox\" ><label for=\"sk-estimator-id-2\" class=\"sk-toggleable__label sk-toggleable__label-arrow\">MinMaxScaler</label><div class=\"sk-toggleable__content\"><pre>MinMaxScaler()</pre></div></div></div><div class=\"sk-item sk-dashed-wrapped\"><div class=\"sk-label-container\"><div class=\"sk-label sk-toggleable\"><input class=\"sk-toggleable__control sk-hidden--visually\" id=\"sk-estimator-id-3\" type=\"checkbox\" ><label for=\"sk-estimator-id-3\" class=\"sk-toggleable__label sk-toggleable__label-arrow\">lr: GridSearchCV</label><div class=\"sk-toggleable__content\"><pre>GridSearchCV(estimator=LogisticRegression(),\n",
       "             param_grid={&#x27;multi_class&#x27;: [&#x27;ovr&#x27;, &#x27;multinomial&#x27;, &#x27;auto&#x27;]},\n",
       "             verbose=3)</pre></div></div></div><div class=\"sk-parallel\"><div class=\"sk-parallel-item\"><div class=\"sk-item\"><div class=\"sk-label-container\"><div class=\"sk-label sk-toggleable\"><input class=\"sk-toggleable__control sk-hidden--visually\" id=\"sk-estimator-id-4\" type=\"checkbox\" ><label for=\"sk-estimator-id-4\" class=\"sk-toggleable__label sk-toggleable__label-arrow\">estimator: LogisticRegression</label><div class=\"sk-toggleable__content\"><pre>LogisticRegression()</pre></div></div></div><div class=\"sk-serial\"><div class=\"sk-item\"><div class=\"sk-estimator sk-toggleable\"><input class=\"sk-toggleable__control sk-hidden--visually\" id=\"sk-estimator-id-5\" type=\"checkbox\" ><label for=\"sk-estimator-id-5\" class=\"sk-toggleable__label sk-toggleable__label-arrow\">LogisticRegression</label><div class=\"sk-toggleable__content\"><pre>LogisticRegression()</pre></div></div></div></div></div></div></div></div></div></div></div></div>"
      ],
      "text/plain": [
       "Pipeline(steps=[('minmax', MinMaxScaler()),\n",
       "                ('lr',\n",
       "                 GridSearchCV(estimator=LogisticRegression(),\n",
       "                              param_grid={'multi_class': ['ovr', 'multinomial',\n",
       "                                                          'auto']},\n",
       "                              verbose=3))])"
      ]
     },
     "execution_count": 26,
     "metadata": {},
     "output_type": "execute_result"
    }
   ],
   "source": [
    "pipeline.fit(X_train, y_train)"
   ]
  },
  {
   "cell_type": "code",
   "execution_count": 27,
   "id": "22107962",
   "metadata": {},
   "outputs": [],
   "source": [
    "pred = pipeline.predict(X_test)"
   ]
  },
  {
   "cell_type": "code",
   "execution_count": 28,
   "id": "1e475882",
   "metadata": {},
   "outputs": [],
   "source": [
    "from sklearn.metrics import classification_report, confusion_matrix, accuracy_score"
   ]
  },
  {
   "cell_type": "code",
   "execution_count": 29,
   "id": "7b1422b1",
   "metadata": {},
   "outputs": [
    {
     "name": "stdout",
     "output_type": "stream",
     "text": [
      "[[14562    27     1    66    32]\n",
      " [  647   476    22   112   101]\n",
      " [    6     3   703    12     0]\n",
      " [ 1051    26     1   534     2]\n",
      " [  981    14     0    23   433]]\n"
     ]
    }
   ],
   "source": [
    "print(confusion_matrix(y_test, pred))"
   ]
  },
  {
   "cell_type": "code",
   "execution_count": 30,
   "id": "ead03979",
   "metadata": {},
   "outputs": [
    {
     "name": "stdout",
     "output_type": "stream",
     "text": [
      "              precision    recall  f1-score   support\n",
      "\n",
      "           1       0.84      0.99      0.91     14688\n",
      "           2       0.87      0.35      0.50      1358\n",
      "           3       0.97      0.97      0.97       724\n",
      "           4       0.71      0.33      0.45      1614\n",
      "           5       0.76      0.30      0.43      1451\n",
      "\n",
      "    accuracy                           0.84     19835\n",
      "   macro avg       0.83      0.59      0.65     19835\n",
      "weighted avg       0.83      0.84      0.81     19835\n",
      "\n"
     ]
    }
   ],
   "source": [
    "print(classification_report(y_test, pred))"
   ]
  },
  {
   "cell_type": "markdown",
   "id": "acf1acbd",
   "metadata": {},
   "source": [
    "## KNN"
   ]
  },
  {
   "cell_type": "code",
   "execution_count": 31,
   "id": "e8acadcd",
   "metadata": {},
   "outputs": [],
   "source": [
    "from sklearn.neighbors import KNeighborsClassifier"
   ]
  },
  {
   "cell_type": "code",
   "execution_count": 32,
   "id": "3f11bac9",
   "metadata": {},
   "outputs": [
    {
     "name": "stdout",
     "output_type": "stream",
     "text": [
      "Neighbours 1\n",
      "Loss: 0.004726493571968742\n",
      "Neighbours 501\n",
      "Loss: 0.053062767834635746\n",
      "Neighbours 1001\n",
      "Loss: 0.08343836652382153\n",
      "Neighbours 1501\n",
      "Loss: 0.11828837912780439\n",
      "Neighbours 2001\n",
      "Loss: 0.14866397781699017\n",
      "Neighbours 2501\n",
      "Loss: 0.1872321653642551\n",
      "Neighbours 3001\n",
      "Loss: 0.2096672548525334\n",
      "Neighbours 3501\n",
      "Loss: 0.21785984371061257\n",
      "Neighbours 4001\n",
      "Loss: 0.22384673556843962\n",
      "Neighbours 4501\n",
      "Loss: 0.22920342828333753\n"
     ]
    }
   ],
   "source": [
    "error_rate = []\n",
    "for i in range(1, 5000, 500):\n",
    "    knn = Pipeline(\n",
    "        [(\"minmax\", MinMaxScaler()), (\"knn\", KNeighborsClassifier(n_neighbors=i))]\n",
    "    )\n",
    "    knn.fit(X_train_1, y_train_1)\n",
    "    pred_i = knn.predict(X_val)\n",
    "    print(f\"Neighbours {i}\")\n",
    "    print(f\"Loss: {np.mean(pred_i !=y_val)}\")\n",
    "    # Take the mean where prediction is not equal to actual\n",
    "    error_rate.append(np.mean(pred_i != y_val))"
   ]
  },
  {
   "cell_type": "code",
   "execution_count": 33,
   "id": "c68e0f53",
   "metadata": {},
   "outputs": [
    {
     "data": {
      "text/plain": [
       "Text(0, 0.5, 'Error Rate')"
      ]
     },
     "execution_count": 33,
     "metadata": {},
     "output_type": "execute_result"
    },
    {
     "data": {
      "image/png": "[encoded data removed]",
      "text/plain": [
       "<Figure size 1000x600 with 1 Axes>"
      ]
     },
     "metadata": {},
     "output_type": "display_data"
    }
   ],
   "source": [
    "plt.figure(figsize=(10, 6))\n",
    "plt.plot(\n",
    "    range(1, 5000, 500),\n",
    "    error_rate,\n",
    "    color=\"blue\",\n",
    "    linestyle=\"dashed\",\n",
    "    marker=\"o\",\n",
    "    markerfacecolor=\"red\",\n",
    "    markersize=10,\n",
    ")\n",
    "plt.title(\"Error Rate vs K Value\")\n",
    "plt.xlabel(\"K\")\n",
    "plt.ylabel(\"Error Rate\")"
   ]
  },
  {
   "cell_type": "code",
   "execution_count": 34,
   "id": "1c54343f",
   "metadata": {},
   "outputs": [
    {
     "data": {
      "text/html": [
       "<style>#sk-container-id-2 {color: black;background-color: white;}#sk-container-id-2 pre{padding: 0;}#sk-container-id-2 div.sk-toggleable {background-color: white;}#sk-container-id-2 label.sk-toggleable__label {cursor: pointer;display: block;width: 100%;margin-bottom: 0;padding: 0.3em;box-sizing: border-box;text-align: center;}#sk-container-id-2 label.sk-toggleable__label-arrow:before {content: \"▸\";float: left;margin-right: 0.25em;color: #696969;}#sk-container-id-2 label.sk-toggleable__label-arrow:hover:before {color: black;}#sk-container-id-2 div.sk-estimator:hover label.sk-toggleable__label-arrow:before {color: black;}#sk-container-id-2 div.sk-toggleable__content {max-height: 0;max-width: 0;overflow: hidden;text-align: left;background-color: #f0f8ff;}#sk-container-id-2 div.sk-toggleable__content pre {margin: 0.2em;color: black;border-radius: 0.25em;background-color: #f0f8ff;}#sk-container-id-2 input.sk-toggleable__control:checked~div.sk-toggleable__content {max-height: 200px;max-width: 100%;overflow: auto;}#sk-container-id-2 input.sk-toggleable__control:checked~label.sk-toggleable__label-arrow:before {content: \"▾\";}#sk-container-id-2 div.sk-estimator input.sk-toggleable__control:checked~label.sk-toggleable__label {background-color: #d4ebff;}#sk-container-id-2 div.sk-label input.sk-toggleable__control:checked~label.sk-toggleable__label {background-color: #d4ebff;}#sk-container-id-2 input.sk-hidden--visually {border: 0;clip: rect(1px 1px 1px 1px);clip: rect(1px, 1px, 1px, 1px);height: 1px;margin: -1px;overflow: hidden;padding: 0;position: absolute;width: 1px;}#sk-container-id-2 div.sk-estimator {font-family: monospace;background-color: #f0f8ff;border: 1px dotted black;border-radius: 0.25em;box-sizing: border-box;margin-bottom: 0.5em;}#sk-container-id-2 div.sk-estimator:hover {background-color: #d4ebff;}#sk-container-id-2 div.sk-parallel-item::after {content: \"\";width: 100%;border-bottom: 1px solid gray;flex-grow: 1;}#sk-container-id-2 div.sk-label:hover label.sk-toggleable__label {background-color: #d4ebff;}#sk-container-id-2 div.sk-serial::before {content: \"\";position: absolute;border-left: 1px solid gray;box-sizing: border-box;top: 0;bottom: 0;left: 50%;z-index: 0;}#sk-container-id-2 div.sk-serial {display: flex;flex-direction: column;align-items: center;background-color: white;padding-right: 0.2em;padding-left: 0.2em;position: relative;}#sk-container-id-2 div.sk-item {position: relative;z-index: 1;}#sk-container-id-2 div.sk-parallel {display: flex;align-items: stretch;justify-content: center;background-color: white;position: relative;}#sk-container-id-2 div.sk-item::before, #sk-container-id-2 div.sk-parallel-item::before {content: \"\";position: absolute;border-left: 1px solid gray;box-sizing: border-box;top: 0;bottom: 0;left: 50%;z-index: -1;}#sk-container-id-2 div.sk-parallel-item {display: flex;flex-direction: column;z-index: 1;position: relative;background-color: white;}#sk-container-id-2 div.sk-parallel-item:first-child::after {align-self: flex-end;width: 50%;}#sk-container-id-2 div.sk-parallel-item:last-child::after {align-self: flex-start;width: 50%;}#sk-container-id-2 div.sk-parallel-item:only-child::after {width: 0;}#sk-container-id-2 div.sk-dashed-wrapped {border: 1px dashed gray;margin: 0 0.4em 0.5em 0.4em;box-sizing: border-box;padding-bottom: 0.4em;background-color: white;}#sk-container-id-2 div.sk-label label {font-family: monospace;font-weight: bold;display: inline-block;line-height: 1.2em;}#sk-container-id-2 div.sk-label-container {text-align: center;}#sk-container-id-2 div.sk-container {/* jupyter's `normalize.less` sets `[hidden] { display: none; }` but bootstrap.min.css set `[hidden] { display: none !important; }` so we also need the `!important` here to be able to override the default hidden behavior on the sphinx rendered scikit-learn.org. See: https://github.com/scikit-learn/scikit-learn/issues/21755 */display: inline-block !important;position: relative;}#sk-container-id-2 div.sk-text-repr-fallback {display: none;}</style><div id=\"sk-container-id-2\" class=\"sk-top-container\"><div class=\"sk-text-repr-fallback\"><pre>Pipeline(steps=[(&#x27;minmax&#x27;, MinMaxScaler()), (&#x27;knn&#x27;, KNeighborsClassifier())])</pre><b>In a Jupyter environment, please rerun this cell to show the HTML representation or trust the notebook. <br />On GitHub, the HTML representation is unable to render, please try loading this page with nbviewer.org.</b></div><div class=\"sk-container\" hidden><div class=\"sk-item sk-dashed-wrapped\"><div class=\"sk-label-container\"><div class=\"sk-label sk-toggleable\"><input class=\"sk-toggleable__control sk-hidden--visually\" id=\"sk-estimator-id-6\" type=\"checkbox\" ><label for=\"sk-estimator-id-6\" class=\"sk-toggleable__label sk-toggleable__label-arrow\">Pipeline</label><div class=\"sk-toggleable__content\"><pre>Pipeline(steps=[(&#x27;minmax&#x27;, MinMaxScaler()), (&#x27;knn&#x27;, KNeighborsClassifier())])</pre></div></div></div><div class=\"sk-serial\"><div class=\"sk-item\"><div class=\"sk-estimator sk-toggleable\"><input class=\"sk-toggleable__control sk-hidden--visually\" id=\"sk-estimator-id-7\" type=\"checkbox\" ><label for=\"sk-estimator-id-7\" class=\"sk-toggleable__label sk-toggleable__label-arrow\">MinMaxScaler</label><div class=\"sk-toggleable__content\"><pre>MinMaxScaler()</pre></div></div></div><div class=\"sk-item\"><div class=\"sk-estimator sk-toggleable\"><input class=\"sk-toggleable__control sk-hidden--visually\" id=\"sk-estimator-id-8\" type=\"checkbox\" ><label for=\"sk-estimator-id-8\" class=\"sk-toggleable__label sk-toggleable__label-arrow\">KNeighborsClassifier</label><div class=\"sk-toggleable__content\"><pre>KNeighborsClassifier()</pre></div></div></div></div></div></div></div>"
      ],
      "text/plain": [
       "Pipeline(steps=[('minmax', MinMaxScaler()), ('knn', KNeighborsClassifier())])"
      ]
     },
     "execution_count": 34,
     "metadata": {},
     "output_type": "execute_result"
    }
   ],
   "source": [
    "knn = Pipeline(\n",
    "    [(\"minmax\", MinMaxScaler()), (\"knn\", KNeighborsClassifier(n_neighbors=5))]\n",
    ")\n",
    "knn.fit(X_train_1, y_train_1)"
   ]
  },
  {
   "cell_type": "code",
   "execution_count": 35,
   "id": "7a8df2a7",
   "metadata": {},
   "outputs": [],
   "source": [
    "pred = knn.predict(X_test)"
   ]
  },
  {
   "cell_type": "code",
   "execution_count": 36,
   "id": "53127da2",
   "metadata": {},
   "outputs": [
    {
     "name": "stdout",
     "output_type": "stream",
     "text": [
      "              precision    recall  f1-score   support\n",
      "\n",
      "           1       1.00      1.00      1.00     14688\n",
      "           2       0.98      0.95      0.96      1358\n",
      "           3       1.00      1.00      1.00       724\n",
      "           4       0.99      0.99      0.99      1614\n",
      "           5       0.99      1.00      0.99      1451\n",
      "\n",
      "    accuracy                           0.99     19835\n",
      "   macro avg       0.99      0.99      0.99     19835\n",
      "weighted avg       0.99      0.99      0.99     19835\n",
      "\n"
     ]
    }
   ],
   "source": [
    "print(classification_report(y_test, pred))"
   ]
  },
  {
   "cell_type": "code",
   "execution_count": 37,
   "id": "0f99567f",
   "metadata": {},
   "outputs": [
    {
     "name": "stdout",
     "output_type": "stream",
     "text": [
      "[[14659    20     2     3     4]\n",
      " [   47  1288     1    18     4]\n",
      " [    0     0   723     1     0]\n",
      " [    7     4     0  1603     0]\n",
      " [    6     0     0     1  1444]]\n"
     ]
    }
   ],
   "source": [
    "print(confusion_matrix(y_test, pred))"
   ]
  },
  {
   "cell_type": "code",
   "execution_count": 38,
   "id": "a3892e70",
   "metadata": {},
   "outputs": [
    {
     "name": "stdout",
     "output_type": "stream",
     "text": [
      "0.9940509200907487\n"
     ]
    }
   ],
   "source": [
    "print(accuracy_score(y_test, pred))"
   ]
  },
  {
   "cell_type": "markdown",
   "id": "6c8f6adf",
   "metadata": {},
   "source": [
    "## Decision Tree"
   ]
  },
  {
   "cell_type": "code",
   "execution_count": 39,
   "id": "8931c7fd",
   "metadata": {},
   "outputs": [],
   "source": [
    "from sklearn.tree import DecisionTreeClassifier"
   ]
  },
  {
   "cell_type": "code",
   "execution_count": 40,
   "id": "151e02e6",
   "metadata": {},
   "outputs": [],
   "source": [
    "dt_params = {\n",
    "    \"criterion\": [\"gini\", \"entropy\", \"log_loss\"],\n",
    "    \"splitter\": [\"best\", \"random\"],\n",
    "}\n",
    "dt = Pipeline(\n",
    "    [\n",
    "        (\"minmax\", MinMaxScaler()),\n",
    "        (\"Bayes\", GridSearchCV(DecisionTreeClassifier(), dt_params, verbose=3)),\n",
    "    ]\n",
    ")"
   ]
  },
  {
   "cell_type": "code",
   "execution_count": 41,
   "id": "79e05e20",
   "metadata": {},
   "outputs": [
    {
     "name": "stdout",
     "output_type": "stream",
     "text": [
      "Fitting 5 folds for each of 6 candidates, totalling 30 fits\n",
      "[CV 1/5] END .....criterion=gini, splitter=best;, score=0.979 total time=  45.1s\n",
      "[CV 2/5] END .....criterion=gini, splitter=best;, score=0.978 total time=  42.1s\n",
      "[CV 3/5] END .....criterion=gini, splitter=best;, score=0.979 total time=  39.7s\n",
      "[CV 4/5] END .....criterion=gini, splitter=best;, score=0.978 total time=  43.6s\n",
      "[CV 5/5] END .....criterion=gini, splitter=best;, score=0.979 total time=  40.9s\n",
      "[CV 1/5] END ...criterion=gini, splitter=random;, score=0.982 total time=   3.7s\n",
      "[CV 2/5] END ...criterion=gini, splitter=random;, score=0.980 total time=   4.4s\n",
      "[CV 3/5] END ...criterion=gini, splitter=random;, score=0.981 total time=   2.9s\n",
      "[CV 4/5] END ...criterion=gini, splitter=random;, score=0.983 total time=   3.5s\n",
      "[CV 5/5] END ...criterion=gini, splitter=random;, score=0.984 total time=   3.1s\n",
      "[CV 1/5] END ..criterion=entropy, splitter=best;, score=0.984 total time=  34.7s\n",
      "[CV 2/5] END ..criterion=entropy, splitter=best;, score=0.981 total time=  34.1s\n",
      "[CV 3/5] END ..criterion=entropy, splitter=best;, score=0.983 total time=  33.4s\n",
      "[CV 4/5] END ..criterion=entropy, splitter=best;, score=0.983 total time=  33.9s\n",
      "[CV 5/5] END ..criterion=entropy, splitter=best;, score=0.981 total time=  33.3s\n",
      "[CV 1/5] END criterion=entropy, splitter=random;, score=0.984 total time=   2.0s\n",
      "[CV 2/5] END criterion=entropy, splitter=random;, score=0.983 total time=   2.3s\n",
      "[CV 3/5] END criterion=entropy, splitter=random;, score=0.984 total time=   2.3s\n",
      "[CV 4/5] END criterion=entropy, splitter=random;, score=0.983 total time=   1.9s\n",
      "[CV 5/5] END criterion=entropy, splitter=random;, score=0.983 total time=   2.1s\n",
      "[CV 1/5] END .criterion=log_loss, splitter=best;, score=0.983 total time=  34.7s\n",
      "[CV 2/5] END .criterion=log_loss, splitter=best;, score=0.982 total time=  33.6s\n",
      "[CV 3/5] END .criterion=log_loss, splitter=best;, score=0.984 total time=  33.3s\n",
      "[CV 4/5] END .criterion=log_loss, splitter=best;, score=0.983 total time=  35.3s\n",
      "[CV 5/5] END .criterion=log_loss, splitter=best;, score=0.981 total time=  38.4s\n",
      "[CV 1/5] END criterion=log_loss, splitter=random;, score=0.984 total time=   2.4s\n",
      "[CV 2/5] END criterion=log_loss, splitter=random;, score=0.982 total time=   2.6s\n",
      "[CV 3/5] END criterion=log_loss, splitter=random;, score=0.984 total time=   2.5s\n",
      "[CV 4/5] END criterion=log_loss, splitter=random;, score=0.983 total time=   2.1s\n",
      "[CV 5/5] END criterion=log_loss, splitter=random;, score=0.983 total time=   1.9s\n"
     ]
    },
    {
     "data": {
      "text/html": [
       "<style>#sk-container-id-3 {color: black;background-color: white;}#sk-container-id-3 pre{padding: 0;}#sk-container-id-3 div.sk-toggleable {background-color: white;}#sk-container-id-3 label.sk-toggleable__label {cursor: pointer;display: block;width: 100%;margin-bottom: 0;padding: 0.3em;box-sizing: border-box;text-align: center;}#sk-container-id-3 label.sk-toggleable__label-arrow:before {content: \"▸\";float: left;margin-right: 0.25em;color: #696969;}#sk-container-id-3 label.sk-toggleable__label-arrow:hover:before {color: black;}#sk-container-id-3 div.sk-estimator:hover label.sk-toggleable__label-arrow:before {color: black;}#sk-container-id-3 div.sk-toggleable__content {max-height: 0;max-width: 0;overflow: hidden;text-align: left;background-color: #f0f8ff;}#sk-container-id-3 div.sk-toggleable__content pre {margin: 0.2em;color: black;border-radius: 0.25em;background-color: #f0f8ff;}#sk-container-id-3 input.sk-toggleable__control:checked~div.sk-toggleable__content {max-height: 200px;max-width: 100%;overflow: auto;}#sk-container-id-3 input.sk-toggleable__control:checked~label.sk-toggleable__label-arrow:before {content: \"▾\";}#sk-container-id-3 div.sk-estimator input.sk-toggleable__control:checked~label.sk-toggleable__label {background-color: #d4ebff;}#sk-container-id-3 div.sk-label input.sk-toggleable__control:checked~label.sk-toggleable__label {background-color: #d4ebff;}#sk-container-id-3 input.sk-hidden--visually {border: 0;clip: rect(1px 1px 1px 1px);clip: rect(1px, 1px, 1px, 1px);height: 1px;margin: -1px;overflow: hidden;padding: 0;position: absolute;width: 1px;}#sk-container-id-3 div.sk-estimator {font-family: monospace;background-color: #f0f8ff;border: 1px dotted black;border-radius: 0.25em;box-sizing: border-box;margin-bottom: 0.5em;}#sk-container-id-3 div.sk-estimator:hover {background-color: #d4ebff;}#sk-container-id-3 div.sk-parallel-item::after {content: \"\";width: 100%;border-bottom: 1px solid gray;flex-grow: 1;}#sk-container-id-3 div.sk-label:hover label.sk-toggleable__label {background-color: #d4ebff;}#sk-container-id-3 div.sk-serial::before {content: \"\";position: absolute;border-left: 1px solid gray;box-sizing: border-box;top: 0;bottom: 0;left: 50%;z-index: 0;}#sk-container-id-3 div.sk-serial {display: flex;flex-direction: column;align-items: center;background-color: white;padding-right: 0.2em;padding-left: 0.2em;position: relative;}#sk-container-id-3 div.sk-item {position: relative;z-index: 1;}#sk-container-id-3 div.sk-parallel {display: flex;align-items: stretch;justify-content: center;background-color: white;position: relative;}#sk-container-id-3 div.sk-item::before, #sk-container-id-3 div.sk-parallel-item::before {content: \"\";position: absolute;border-left: 1px solid gray;box-sizing: border-box;top: 0;bottom: 0;left: 50%;z-index: -1;}#sk-container-id-3 div.sk-parallel-item {display: flex;flex-direction: column;z-index: 1;position: relative;background-color: white;}#sk-container-id-3 div.sk-parallel-item:first-child::after {align-self: flex-end;width: 50%;}#sk-container-id-3 div.sk-parallel-item:last-child::after {align-self: flex-start;width: 50%;}#sk-container-id-3 div.sk-parallel-item:only-child::after {width: 0;}#sk-container-id-3 div.sk-dashed-wrapped {border: 1px dashed gray;margin: 0 0.4em 0.5em 0.4em;box-sizing: border-box;padding-bottom: 0.4em;background-color: white;}#sk-container-id-3 div.sk-label label {font-family: monospace;font-weight: bold;display: inline-block;line-height: 1.2em;}#sk-container-id-3 div.sk-label-container {text-align: center;}#sk-container-id-3 div.sk-container {/* jupyter's `normalize.less` sets `[hidden] { display: none; }` but bootstrap.min.css set `[hidden] { display: none !important; }` so we also need the `!important` here to be able to override the default hidden behavior on the sphinx rendered scikit-learn.org. See: https://github.com/scikit-learn/scikit-learn/issues/21755 */display: inline-block !important;position: relative;}#sk-container-id-3 div.sk-text-repr-fallback {display: none;}</style><div id=\"sk-container-id-3\" class=\"sk-top-container\"><div class=\"sk-text-repr-fallback\"><pre>Pipeline(steps=[(&#x27;minmax&#x27;, MinMaxScaler()),\n",
       "                (&#x27;Bayes&#x27;,\n",
       "                 GridSearchCV(estimator=DecisionTreeClassifier(),\n",
       "                              param_grid={&#x27;criterion&#x27;: [&#x27;gini&#x27;, &#x27;entropy&#x27;,\n",
       "                                                        &#x27;log_loss&#x27;],\n",
       "                                          &#x27;splitter&#x27;: [&#x27;best&#x27;, &#x27;random&#x27;]},\n",
       "                              verbose=3))])</pre><b>In a Jupyter environment, please rerun this cell to show the HTML representation or trust the notebook. <br />On GitHub, the HTML representation is unable to render, please try loading this page with nbviewer.org.</b></div><div class=\"sk-container\" hidden><div class=\"sk-item sk-dashed-wrapped\"><div class=\"sk-label-container\"><div class=\"sk-label sk-toggleable\"><input class=\"sk-toggleable__control sk-hidden--visually\" id=\"sk-estimator-id-9\" type=\"checkbox\" ><label for=\"sk-estimator-id-9\" class=\"sk-toggleable__label sk-toggleable__label-arrow\">Pipeline</label><div class=\"sk-toggleable__content\"><pre>Pipeline(steps=[(&#x27;minmax&#x27;, MinMaxScaler()),\n",
       "                (&#x27;Bayes&#x27;,\n",
       "                 GridSearchCV(estimator=DecisionTreeClassifier(),\n",
       "                              param_grid={&#x27;criterion&#x27;: [&#x27;gini&#x27;, &#x27;entropy&#x27;,\n",
       "                                                        &#x27;log_loss&#x27;],\n",
       "                                          &#x27;splitter&#x27;: [&#x27;best&#x27;, &#x27;random&#x27;]},\n",
       "                              verbose=3))])</pre></div></div></div><div class=\"sk-serial\"><div class=\"sk-item\"><div class=\"sk-estimator sk-toggleable\"><input class=\"sk-toggleable__control sk-hidden--visually\" id=\"sk-estimator-id-10\" type=\"checkbox\" ><label for=\"sk-estimator-id-10\" class=\"sk-toggleable__label sk-toggleable__label-arrow\">MinMaxScaler</label><div class=\"sk-toggleable__content\"><pre>MinMaxScaler()</pre></div></div></div><div class=\"sk-item sk-dashed-wrapped\"><div class=\"sk-label-container\"><div class=\"sk-label sk-toggleable\"><input class=\"sk-toggleable__control sk-hidden--visually\" id=\"sk-estimator-id-11\" type=\"checkbox\" ><label for=\"sk-estimator-id-11\" class=\"sk-toggleable__label sk-toggleable__label-arrow\">Bayes: GridSearchCV</label><div class=\"sk-toggleable__content\"><pre>GridSearchCV(estimator=DecisionTreeClassifier(),\n",
       "             param_grid={&#x27;criterion&#x27;: [&#x27;gini&#x27;, &#x27;entropy&#x27;, &#x27;log_loss&#x27;],\n",
       "                         &#x27;splitter&#x27;: [&#x27;best&#x27;, &#x27;random&#x27;]},\n",
       "             verbose=3)</pre></div></div></div><div class=\"sk-parallel\"><div class=\"sk-parallel-item\"><div class=\"sk-item\"><div class=\"sk-label-container\"><div class=\"sk-label sk-toggleable\"><input class=\"sk-toggleable__control sk-hidden--visually\" id=\"sk-estimator-id-12\" type=\"checkbox\" ><label for=\"sk-estimator-id-12\" class=\"sk-toggleable__label sk-toggleable__label-arrow\">estimator: DecisionTreeClassifier</label><div class=\"sk-toggleable__content\"><pre>DecisionTreeClassifier()</pre></div></div></div><div class=\"sk-serial\"><div class=\"sk-item\"><div class=\"sk-estimator sk-toggleable\"><input class=\"sk-toggleable__control sk-hidden--visually\" id=\"sk-estimator-id-13\" type=\"checkbox\" ><label for=\"sk-estimator-id-13\" class=\"sk-toggleable__label sk-toggleable__label-arrow\">DecisionTreeClassifier</label><div class=\"sk-toggleable__content\"><pre>DecisionTreeClassifier()</pre></div></div></div></div></div></div></div></div></div></div></div></div>"
      ],
      "text/plain": [
       "Pipeline(steps=[('minmax', MinMaxScaler()),\n",
       "                ('Bayes',\n",
       "                 GridSearchCV(estimator=DecisionTreeClassifier(),\n",
       "                              param_grid={'criterion': ['gini', 'entropy',\n",
       "                                                        'log_loss'],\n",
       "                                          'splitter': ['best', 'random']},\n",
       "                              verbose=3))])"
      ]
     },
     "execution_count": 41,
     "metadata": {},
     "output_type": "execute_result"
    }
   ],
   "source": [
    "dt.fit(X_train_1, y_train_1)"
   ]
  },
  {
   "cell_type": "code",
   "execution_count": 42,
   "id": "6e8123ca",
   "metadata": {},
   "outputs": [],
   "source": [
    "pred_val = dt.predict(X_val)"
   ]
  },
  {
   "cell_type": "code",
   "execution_count": 43,
   "id": "83a9f1cc",
   "metadata": {},
   "outputs": [
    {
     "name": "stdout",
     "output_type": "stream",
     "text": [
      "[[11663    40     1    24    22]\n",
      " [   52  1008     7    13     7]\n",
      " [    2     6   569     2     0]\n",
      " [   25    15     0  1250     1]\n",
      " [   20    10     0     2  1129]]\n"
     ]
    }
   ],
   "source": [
    "print(confusion_matrix(y_val, pred_val))"
   ]
  },
  {
   "cell_type": "code",
   "execution_count": 44,
   "id": "7e140153",
   "metadata": {},
   "outputs": [
    {
     "name": "stdout",
     "output_type": "stream",
     "text": [
      "              precision    recall  f1-score   support\n",
      "\n",
      "           1       0.99      0.99      0.99     11750\n",
      "           2       0.93      0.93      0.93      1087\n",
      "           3       0.99      0.98      0.98       579\n",
      "           4       0.97      0.97      0.97      1291\n",
      "           5       0.97      0.97      0.97      1161\n",
      "\n",
      "    accuracy                           0.98     15868\n",
      "   macro avg       0.97      0.97      0.97     15868\n",
      "weighted avg       0.98      0.98      0.98     15868\n",
      "\n"
     ]
    }
   ],
   "source": [
    "print(classification_report(y_val, pred_val))"
   ]
  },
  {
   "cell_type": "code",
   "execution_count": 45,
   "id": "2a4b4299",
   "metadata": {},
   "outputs": [],
   "source": [
    "pred = dt.predict(X_test)"
   ]
  },
  {
   "cell_type": "code",
   "execution_count": 46,
   "id": "eb839930",
   "metadata": {},
   "outputs": [
    {
     "name": "stdout",
     "output_type": "stream",
     "text": [
      "[[14585    60     2    21    20]\n",
      " [   66  1255     5    16    16]\n",
      " [    4     4   715     1     0]\n",
      " [   22    17     0  1570     5]\n",
      " [   27     3     0     2  1419]]\n"
     ]
    }
   ],
   "source": [
    "print(confusion_matrix(y_test, pred))"
   ]
  },
  {
   "cell_type": "code",
   "execution_count": 47,
   "id": "55058e2f",
   "metadata": {},
   "outputs": [
    {
     "name": "stdout",
     "output_type": "stream",
     "text": [
      "              precision    recall  f1-score   support\n",
      "\n",
      "           1       0.99      0.99      0.99     14688\n",
      "           2       0.94      0.92      0.93      1358\n",
      "           3       0.99      0.99      0.99       724\n",
      "           4       0.98      0.97      0.97      1614\n",
      "           5       0.97      0.98      0.97      1451\n",
      "\n",
      "    accuracy                           0.99     19835\n",
      "   macro avg       0.97      0.97      0.97     19835\n",
      "weighted avg       0.99      0.99      0.99     19835\n",
      "\n"
     ]
    }
   ],
   "source": [
    "print(classification_report(y_test, pred))"
   ]
  },
  {
   "cell_type": "markdown",
   "id": "f2eb111b",
   "metadata": {},
   "source": [
    "## Random Forest"
   ]
  },
  {
   "cell_type": "code",
   "execution_count": 48,
   "id": "b0d3cc56",
   "metadata": {},
   "outputs": [],
   "source": [
    "from sklearn.ensemble import RandomForestClassifier"
   ]
  },
  {
   "cell_type": "code",
   "execution_count": 49,
   "id": "07c720d6",
   "metadata": {},
   "outputs": [],
   "source": [
    "rand = Pipeline(\n",
    "    [(\"minmax\", MinMaxScaler()), (\"rand\", RandomForestClassifier(criterion=\"gini\"))]\n",
    ")"
   ]
  },
  {
   "cell_type": "code",
   "execution_count": 50,
   "id": "9495e402",
   "metadata": {},
   "outputs": [
    {
     "data": {
      "text/html": [
       "<style>#sk-container-id-4 {color: black;background-color: white;}#sk-container-id-4 pre{padding: 0;}#sk-container-id-4 div.sk-toggleable {background-color: white;}#sk-container-id-4 label.sk-toggleable__label {cursor: pointer;display: block;width: 100%;margin-bottom: 0;padding: 0.3em;box-sizing: border-box;text-align: center;}#sk-container-id-4 label.sk-toggleable__label-arrow:before {content: \"▸\";float: left;margin-right: 0.25em;color: #696969;}#sk-container-id-4 label.sk-toggleable__label-arrow:hover:before {color: black;}#sk-container-id-4 div.sk-estimator:hover label.sk-toggleable__label-arrow:before {color: black;}#sk-container-id-4 div.sk-toggleable__content {max-height: 0;max-width: 0;overflow: hidden;text-align: left;background-color: #f0f8ff;}#sk-container-id-4 div.sk-toggleable__content pre {margin: 0.2em;color: black;border-radius: 0.25em;background-color: #f0f8ff;}#sk-container-id-4 input.sk-toggleable__control:checked~div.sk-toggleable__content {max-height: 200px;max-width: 100%;overflow: auto;}#sk-container-id-4 input.sk-toggleable__control:checked~label.sk-toggleable__label-arrow:before {content: \"▾\";}#sk-container-id-4 div.sk-estimator input.sk-toggleable__control:checked~label.sk-toggleable__label {background-color: #d4ebff;}#sk-container-id-4 div.sk-label input.sk-toggleable__control:checked~label.sk-toggleable__label {background-color: #d4ebff;}#sk-container-id-4 input.sk-hidden--visually {border: 0;clip: rect(1px 1px 1px 1px);clip: rect(1px, 1px, 1px, 1px);height: 1px;margin: -1px;overflow: hidden;padding: 0;position: absolute;width: 1px;}#sk-container-id-4 div.sk-estimator {font-family: monospace;background-color: #f0f8ff;border: 1px dotted black;border-radius: 0.25em;box-sizing: border-box;margin-bottom: 0.5em;}#sk-container-id-4 div.sk-estimator:hover {background-color: #d4ebff;}#sk-container-id-4 div.sk-parallel-item::after {content: \"\";width: 100%;border-bottom: 1px solid gray;flex-grow: 1;}#sk-container-id-4 div.sk-label:hover label.sk-toggleable__label {background-color: #d4ebff;}#sk-container-id-4 div.sk-serial::before {content: \"\";position: absolute;border-left: 1px solid gray;box-sizing: border-box;top: 0;bottom: 0;left: 50%;z-index: 0;}#sk-container-id-4 div.sk-serial {display: flex;flex-direction: column;align-items: center;background-color: white;padding-right: 0.2em;padding-left: 0.2em;position: relative;}#sk-container-id-4 div.sk-item {position: relative;z-index: 1;}#sk-container-id-4 div.sk-parallel {display: flex;align-items: stretch;justify-content: center;background-color: white;position: relative;}#sk-container-id-4 div.sk-item::before, #sk-container-id-4 div.sk-parallel-item::before {content: \"\";position: absolute;border-left: 1px solid gray;box-sizing: border-box;top: 0;bottom: 0;left: 50%;z-index: -1;}#sk-container-id-4 div.sk-parallel-item {display: flex;flex-direction: column;z-index: 1;position: relative;background-color: white;}#sk-container-id-4 div.sk-parallel-item:first-child::after {align-self: flex-end;width: 50%;}#sk-container-id-4 div.sk-parallel-item:last-child::after {align-self: flex-start;width: 50%;}#sk-container-id-4 div.sk-parallel-item:only-child::after {width: 0;}#sk-container-id-4 div.sk-dashed-wrapped {border: 1px dashed gray;margin: 0 0.4em 0.5em 0.4em;box-sizing: border-box;padding-bottom: 0.4em;background-color: white;}#sk-container-id-4 div.sk-label label {font-family: monospace;font-weight: bold;display: inline-block;line-height: 1.2em;}#sk-container-id-4 div.sk-label-container {text-align: center;}#sk-container-id-4 div.sk-container {/* jupyter's `normalize.less` sets `[hidden] { display: none; }` but bootstrap.min.css set `[hidden] { display: none !important; }` so we also need the `!important` here to be able to override the default hidden behavior on the sphinx rendered scikit-learn.org. See: https://github.com/scikit-learn/scikit-learn/issues/21755 */display: inline-block !important;position: relative;}#sk-container-id-4 div.sk-text-repr-fallback {display: none;}</style><div id=\"sk-container-id-4\" class=\"sk-top-container\"><div class=\"sk-text-repr-fallback\"><pre>Pipeline(steps=[(&#x27;minmax&#x27;, MinMaxScaler()), (&#x27;rand&#x27;, RandomForestClassifier())])</pre><b>In a Jupyter environment, please rerun this cell to show the HTML representation or trust the notebook. <br />On GitHub, the HTML representation is unable to render, please try loading this page with nbviewer.org.</b></div><div class=\"sk-container\" hidden><div class=\"sk-item sk-dashed-wrapped\"><div class=\"sk-label-container\"><div class=\"sk-label sk-toggleable\"><input class=\"sk-toggleable__control sk-hidden--visually\" id=\"sk-estimator-id-14\" type=\"checkbox\" ><label for=\"sk-estimator-id-14\" class=\"sk-toggleable__label sk-toggleable__label-arrow\">Pipeline</label><div class=\"sk-toggleable__content\"><pre>Pipeline(steps=[(&#x27;minmax&#x27;, MinMaxScaler()), (&#x27;rand&#x27;, RandomForestClassifier())])</pre></div></div></div><div class=\"sk-serial\"><div class=\"sk-item\"><div class=\"sk-estimator sk-toggleable\"><input class=\"sk-toggleable__control sk-hidden--visually\" id=\"sk-estimator-id-15\" type=\"checkbox\" ><label for=\"sk-estimator-id-15\" class=\"sk-toggleable__label sk-toggleable__label-arrow\">MinMaxScaler</label><div class=\"sk-toggleable__content\"><pre>MinMaxScaler()</pre></div></div></div><div class=\"sk-item\"><div class=\"sk-estimator sk-toggleable\"><input class=\"sk-toggleable__control sk-hidden--visually\" id=\"sk-estimator-id-16\" type=\"checkbox\" ><label for=\"sk-estimator-id-16\" class=\"sk-toggleable__label sk-toggleable__label-arrow\">RandomForestClassifier</label><div class=\"sk-toggleable__content\"><pre>RandomForestClassifier()</pre></div></div></div></div></div></div></div>"
      ],
      "text/plain": [
       "Pipeline(steps=[('minmax', MinMaxScaler()), ('rand', RandomForestClassifier())])"
      ]
     },
     "execution_count": 50,
     "metadata": {},
     "output_type": "execute_result"
    }
   ],
   "source": [
    "rand.fit(X_train_1, y_train_1)"
   ]
  },
  {
   "cell_type": "code",
   "execution_count": 51,
   "id": "699f59a5",
   "metadata": {},
   "outputs": [],
   "source": [
    "pred_val = rand.predict(X_val)"
   ]
  },
  {
   "cell_type": "code",
   "execution_count": 52,
   "id": "0e241e0d",
   "metadata": {
    "scrolled": true
   },
   "outputs": [
    {
     "name": "stdout",
     "output_type": "stream",
     "text": [
      "              precision    recall  f1-score   support\n",
      "\n",
      "           1       0.99      1.00      1.00     11750\n",
      "           2       0.97      0.96      0.96      1087\n",
      "           3       1.00      0.99      0.99       579\n",
      "           4       0.99      0.97      0.98      1291\n",
      "           5       1.00      0.98      0.99      1161\n",
      "\n",
      "    accuracy                           0.99     15868\n",
      "   macro avg       0.99      0.98      0.99     15868\n",
      "weighted avg       0.99      0.99      0.99     15868\n",
      "\n"
     ]
    }
   ],
   "source": [
    "print(classification_report(y_val, pred_val))"
   ]
  },
  {
   "cell_type": "code",
   "execution_count": 53,
   "id": "675f86be",
   "metadata": {},
   "outputs": [
    {
     "name": "stdout",
     "output_type": "stream",
     "text": [
      "[[11731    18     0     1     0]\n",
      " [   38  1041     2     5     1]\n",
      " [    2     2   574     1     0]\n",
      " [   23    10     0  1258     0]\n",
      " [   24     1     0     0  1136]]\n"
     ]
    }
   ],
   "source": [
    "print(confusion_matrix(y_val, pred_val))"
   ]
  },
  {
   "cell_type": "code",
   "execution_count": 54,
   "id": "c2a09181",
   "metadata": {},
   "outputs": [],
   "source": [
    "pred = rand.predict(X_test)"
   ]
  },
  {
   "cell_type": "code",
   "execution_count": 55,
   "id": "9afac831",
   "metadata": {},
   "outputs": [
    {
     "name": "stdout",
     "output_type": "stream",
     "text": [
      "              precision    recall  f1-score   support\n",
      "\n",
      "           1       0.99      1.00      1.00     14688\n",
      "           2       0.98      0.95      0.96      1358\n",
      "           3       1.00      1.00      1.00       724\n",
      "           4       0.99      0.98      0.99      1614\n",
      "           5       1.00      0.99      0.99      1451\n",
      "\n",
      "    accuracy                           0.99     19835\n",
      "   macro avg       0.99      0.98      0.99     19835\n",
      "weighted avg       0.99      0.99      0.99     19835\n",
      "\n"
     ]
    }
   ],
   "source": [
    "print(classification_report(y_test, pred))"
   ]
  },
  {
   "cell_type": "code",
   "execution_count": 56,
   "id": "30794ef5",
   "metadata": {},
   "outputs": [
    {
     "name": "stdout",
     "output_type": "stream",
     "text": [
      "[[14667    15     1     3     2]\n",
      " [   59  1289     2     5     3]\n",
      " [    2     1   721     0     0]\n",
      " [   19    14     0  1581     0]\n",
      " [   16     1     0     2  1432]]\n"
     ]
    }
   ],
   "source": [
    "print(confusion_matrix(y_test, pred))"
   ]
  },
  {
   "cell_type": "markdown",
   "id": "981791cf",
   "metadata": {},
   "source": [
    "## SVM"
   ]
  },
  {
   "cell_type": "code",
   "execution_count": 57,
   "id": "e9acf10d",
   "metadata": {},
   "outputs": [],
   "source": [
    "from sklearn.svm import SVC"
   ]
  },
  {
   "cell_type": "code",
   "execution_count": 58,
   "id": "566cc354",
   "metadata": {},
   "outputs": [],
   "source": [
    "svm_param_grid = {\"C\": [0.1, 1, 10, 100, 1000], \"gamma\": [1, 0.1, 0.01, 0.001, 0.0001]}"
   ]
  },
  {
   "cell_type": "code",
   "execution_count": 59,
   "id": "668e83ef",
   "metadata": {},
   "outputs": [],
   "source": [
    "svm = Pipeline([(\"minmax\", MinMaxScaler()), (\"SVM\", SVC(C=0.1, gamma=1))])"
   ]
  },
  {
   "cell_type": "code",
   "execution_count": null,
   "id": "3139ccfb",
   "metadata": {},
   "outputs": [],
   "source": []
  },
  {
   "cell_type": "code",
   "execution_count": 60,
   "id": "c9935fec",
   "metadata": {},
   "outputs": [
    {
     "data": {
      "text/html": [
       "<style>#sk-container-id-5 {color: black;background-color: white;}#sk-container-id-5 pre{padding: 0;}#sk-container-id-5 div.sk-toggleable {background-color: white;}#sk-container-id-5 label.sk-toggleable__label {cursor: pointer;display: block;width: 100%;margin-bottom: 0;padding: 0.3em;box-sizing: border-box;text-align: center;}#sk-container-id-5 label.sk-toggleable__label-arrow:before {content: \"▸\";float: left;margin-right: 0.25em;color: #696969;}#sk-container-id-5 label.sk-toggleable__label-arrow:hover:before {color: black;}#sk-container-id-5 div.sk-estimator:hover label.sk-toggleable__label-arrow:before {color: black;}#sk-container-id-5 div.sk-toggleable__content {max-height: 0;max-width: 0;overflow: hidden;text-align: left;background-color: #f0f8ff;}#sk-container-id-5 div.sk-toggleable__content pre {margin: 0.2em;color: black;border-radius: 0.25em;background-color: #f0f8ff;}#sk-container-id-5 input.sk-toggleable__control:checked~div.sk-toggleable__content {max-height: 200px;max-width: 100%;overflow: auto;}#sk-container-id-5 input.sk-toggleable__control:checked~label.sk-toggleable__label-arrow:before {content: \"▾\";}#sk-container-id-5 div.sk-estimator input.sk-toggleable__control:checked~label.sk-toggleable__label {background-color: #d4ebff;}#sk-container-id-5 div.sk-label input.sk-toggleable__control:checked~label.sk-toggleable__label {background-color: #d4ebff;}#sk-container-id-5 input.sk-hidden--visually {border: 0;clip: rect(1px 1px 1px 1px);clip: rect(1px, 1px, 1px, 1px);height: 1px;margin: -1px;overflow: hidden;padding: 0;position: absolute;width: 1px;}#sk-container-id-5 div.sk-estimator {font-family: monospace;background-color: #f0f8ff;border: 1px dotted black;border-radius: 0.25em;box-sizing: border-box;margin-bottom: 0.5em;}#sk-container-id-5 div.sk-estimator:hover {background-color: #d4ebff;}#sk-container-id-5 div.sk-parallel-item::after {content: \"\";width: 100%;border-bottom: 1px solid gray;flex-grow: 1;}#sk-container-id-5 div.sk-label:hover label.sk-toggleable__label {background-color: #d4ebff;}#sk-container-id-5 div.sk-serial::before {content: \"\";position: absolute;border-left: 1px solid gray;box-sizing: border-box;top: 0;bottom: 0;left: 50%;z-index: 0;}#sk-container-id-5 div.sk-serial {display: flex;flex-direction: column;align-items: center;background-color: white;padding-right: 0.2em;padding-left: 0.2em;position: relative;}#sk-container-id-5 div.sk-item {position: relative;z-index: 1;}#sk-container-id-5 div.sk-parallel {display: flex;align-items: stretch;justify-content: center;background-color: white;position: relative;}#sk-container-id-5 div.sk-item::before, #sk-container-id-5 div.sk-parallel-item::before {content: \"\";position: absolute;border-left: 1px solid gray;box-sizing: border-box;top: 0;bottom: 0;left: 50%;z-index: -1;}#sk-container-id-5 div.sk-parallel-item {display: flex;flex-direction: column;z-index: 1;position: relative;background-color: white;}#sk-container-id-5 div.sk-parallel-item:first-child::after {align-self: flex-end;width: 50%;}#sk-container-id-5 div.sk-parallel-item:last-child::after {align-self: flex-start;width: 50%;}#sk-container-id-5 div.sk-parallel-item:only-child::after {width: 0;}#sk-container-id-5 div.sk-dashed-wrapped {border: 1px dashed gray;margin: 0 0.4em 0.5em 0.4em;box-sizing: border-box;padding-bottom: 0.4em;background-color: white;}#sk-container-id-5 div.sk-label label {font-family: monospace;font-weight: bold;display: inline-block;line-height: 1.2em;}#sk-container-id-5 div.sk-label-container {text-align: center;}#sk-container-id-5 div.sk-container {/* jupyter's `normalize.less` sets `[hidden] { display: none; }` but bootstrap.min.css set `[hidden] { display: none !important; }` so we also need the `!important` here to be able to override the default hidden behavior on the sphinx rendered scikit-learn.org. See: https://github.com/scikit-learn/scikit-learn/issues/21755 */display: inline-block !important;position: relative;}#sk-container-id-5 div.sk-text-repr-fallback {display: none;}</style><div id=\"sk-container-id-5\" class=\"sk-top-container\"><div class=\"sk-text-repr-fallback\"><pre>Pipeline(steps=[(&#x27;minmax&#x27;, MinMaxScaler()), (&#x27;SVM&#x27;, SVC(C=0.1, gamma=1))])</pre><b>In a Jupyter environment, please rerun this cell to show the HTML representation or trust the notebook. <br />On GitHub, the HTML representation is unable to render, please try loading this page with nbviewer.org.</b></div><div class=\"sk-container\" hidden><div class=\"sk-item sk-dashed-wrapped\"><div class=\"sk-label-container\"><div class=\"sk-label sk-toggleable\"><input class=\"sk-toggleable__control sk-hidden--visually\" id=\"sk-estimator-id-17\" type=\"checkbox\" ><label for=\"sk-estimator-id-17\" class=\"sk-toggleable__label sk-toggleable__label-arrow\">Pipeline</label><div class=\"sk-toggleable__content\"><pre>Pipeline(steps=[(&#x27;minmax&#x27;, MinMaxScaler()), (&#x27;SVM&#x27;, SVC(C=0.1, gamma=1))])</pre></div></div></div><div class=\"sk-serial\"><div class=\"sk-item\"><div class=\"sk-estimator sk-toggleable\"><input class=\"sk-toggleable__control sk-hidden--visually\" id=\"sk-estimator-id-18\" type=\"checkbox\" ><label for=\"sk-estimator-id-18\" class=\"sk-toggleable__label sk-toggleable__label-arrow\">MinMaxScaler</label><div class=\"sk-toggleable__content\"><pre>MinMaxScaler()</pre></div></div></div><div class=\"sk-item\"><div class=\"sk-estimator sk-toggleable\"><input class=\"sk-toggleable__control sk-hidden--visually\" id=\"sk-estimator-id-19\" type=\"checkbox\" ><label for=\"sk-estimator-id-19\" class=\"sk-toggleable__label sk-toggleable__label-arrow\">SVC</label><div class=\"sk-toggleable__content\"><pre>SVC(C=0.1, gamma=1)</pre></div></div></div></div></div></div></div>"
      ],
      "text/plain": [
       "Pipeline(steps=[('minmax', MinMaxScaler()), ('SVM', SVC(C=0.1, gamma=1))])"
      ]
     },
     "execution_count": 60,
     "metadata": {},
     "output_type": "execute_result"
    }
   ],
   "source": [
    "svm.fit(X_train_1, y_train_1)"
   ]
  },
  {
   "cell_type": "code",
   "execution_count": 61,
   "id": "2187e9f0",
   "metadata": {},
   "outputs": [],
   "source": [
    "pred_val = svm.predict(X_val)"
   ]
  },
  {
   "cell_type": "code",
   "execution_count": 62,
   "id": "047e9e78",
   "metadata": {},
   "outputs": [
    {
     "name": "stdout",
     "output_type": "stream",
     "text": [
      "              precision    recall  f1-score   support\n",
      "\n",
      "           1       0.98      0.99      0.99     11750\n",
      "           2       0.95      0.92      0.94      1087\n",
      "           3       0.99      0.99      0.99       579\n",
      "           4       0.97      0.93      0.95      1291\n",
      "           5       0.99      0.91      0.95      1161\n",
      "\n",
      "    accuracy                           0.98     15868\n",
      "   macro avg       0.98      0.95      0.96     15868\n",
      "weighted avg       0.98      0.98      0.98     15868\n",
      "\n"
     ]
    }
   ],
   "source": [
    "print(classification_report(y_val, pred_val))"
   ]
  },
  {
   "cell_type": "code",
   "execution_count": 63,
   "id": "eefa9667",
   "metadata": {},
   "outputs": [
    {
     "name": "stdout",
     "output_type": "stream",
     "text": [
      "[[11687    34     0    21     8]\n",
      " [   73   996     5    11     2]\n",
      " [    1     3   574     1     0]\n",
      " [   83     9     0  1199     0]\n",
      " [   98     1     0     0  1062]]\n"
     ]
    }
   ],
   "source": [
    "print(confusion_matrix(y_val, pred_val))"
   ]
  },
  {
   "cell_type": "code",
   "execution_count": 64,
   "id": "2c0d1ff2",
   "metadata": {},
   "outputs": [],
   "source": [
    "pred = svm.predict(X_test)"
   ]
  },
  {
   "cell_type": "code",
   "execution_count": 65,
   "id": "3866c76b",
   "metadata": {},
   "outputs": [
    {
     "name": "stdout",
     "output_type": "stream",
     "text": [
      "              precision    recall  f1-score   support\n",
      "\n",
      "           1       0.98      0.99      0.99     14688\n",
      "           2       0.95      0.90      0.93      1358\n",
      "           3       1.00      1.00      1.00       724\n",
      "           4       0.97      0.93      0.95      1614\n",
      "           5       0.98      0.92      0.95      1451\n",
      "\n",
      "    accuracy                           0.98     19835\n",
      "   macro avg       0.98      0.95      0.96     19835\n",
      "weighted avg       0.98      0.98      0.98     19835\n",
      "\n"
     ]
    }
   ],
   "source": [
    "print(classification_report(y_test, pred))"
   ]
  },
  {
   "cell_type": "code",
   "execution_count": 66,
   "id": "30346e5f",
   "metadata": {},
   "outputs": [
    {
     "name": "stdout",
     "output_type": "stream",
     "text": [
      "[[14608    39     0    32     9]\n",
      " [  102  1228     2    14    12]\n",
      " [    1     1   722     0     0]\n",
      " [   95    17     0  1502     0]\n",
      " [  118     2     0     1  1330]]\n"
     ]
    }
   ],
   "source": [
    "print(confusion_matrix(y_test, pred))"
   ]
  },
  {
   "cell_type": "markdown",
   "id": "f6b1b577",
   "metadata": {},
   "source": [
    "## Gaussian Naive Bayes"
   ]
  },
  {
   "cell_type": "code",
   "execution_count": 67,
   "id": "8d0522b6",
   "metadata": {},
   "outputs": [],
   "source": [
    "from sklearn.naive_bayes import GaussianNB"
   ]
  },
  {
   "cell_type": "code",
   "execution_count": 68,
   "id": "ecb7e581",
   "metadata": {},
   "outputs": [],
   "source": [
    "gnb = Pipeline([(\"minmax\", MinMaxScaler()), (\"GNB\", GaussianNB())])"
   ]
  },
  {
   "cell_type": "code",
   "execution_count": 69,
   "id": "bef935e1",
   "metadata": {},
   "outputs": [
    {
     "data": {
      "text/html": [
       "<style>#sk-container-id-6 {color: black;background-color: white;}#sk-container-id-6 pre{padding: 0;}#sk-container-id-6 div.sk-toggleable {background-color: white;}#sk-container-id-6 label.sk-toggleable__label {cursor: pointer;display: block;width: 100%;margin-bottom: 0;padding: 0.3em;box-sizing: border-box;text-align: center;}#sk-container-id-6 label.sk-toggleable__label-arrow:before {content: \"▸\";float: left;margin-right: 0.25em;color: #696969;}#sk-container-id-6 label.sk-toggleable__label-arrow:hover:before {color: black;}#sk-container-id-6 div.sk-estimator:hover label.sk-toggleable__label-arrow:before {color: black;}#sk-container-id-6 div.sk-toggleable__content {max-height: 0;max-width: 0;overflow: hidden;text-align: left;background-color: #f0f8ff;}#sk-container-id-6 div.sk-toggleable__content pre {margin: 0.2em;color: black;border-radius: 0.25em;background-color: #f0f8ff;}#sk-container-id-6 input.sk-toggleable__control:checked~div.sk-toggleable__content {max-height: 200px;max-width: 100%;overflow: auto;}#sk-container-id-6 input.sk-toggleable__control:checked~label.sk-toggleable__label-arrow:before {content: \"▾\";}#sk-container-id-6 div.sk-estimator input.sk-toggleable__control:checked~label.sk-toggleable__label {background-color: #d4ebff;}#sk-container-id-6 div.sk-label input.sk-toggleable__control:checked~label.sk-toggleable__label {background-color: #d4ebff;}#sk-container-id-6 input.sk-hidden--visually {border: 0;clip: rect(1px 1px 1px 1px);clip: rect(1px, 1px, 1px, 1px);height: 1px;margin: -1px;overflow: hidden;padding: 0;position: absolute;width: 1px;}#sk-container-id-6 div.sk-estimator {font-family: monospace;background-color: #f0f8ff;border: 1px dotted black;border-radius: 0.25em;box-sizing: border-box;margin-bottom: 0.5em;}#sk-container-id-6 div.sk-estimator:hover {background-color: #d4ebff;}#sk-container-id-6 div.sk-parallel-item::after {content: \"\";width: 100%;border-bottom: 1px solid gray;flex-grow: 1;}#sk-container-id-6 div.sk-label:hover label.sk-toggleable__label {background-color: #d4ebff;}#sk-container-id-6 div.sk-serial::before {content: \"\";position: absolute;border-left: 1px solid gray;box-sizing: border-box;top: 0;bottom: 0;left: 50%;z-index: 0;}#sk-container-id-6 div.sk-serial {display: flex;flex-direction: column;align-items: center;background-color: white;padding-right: 0.2em;padding-left: 0.2em;position: relative;}#sk-container-id-6 div.sk-item {position: relative;z-index: 1;}#sk-container-id-6 div.sk-parallel {display: flex;align-items: stretch;justify-content: center;background-color: white;position: relative;}#sk-container-id-6 div.sk-item::before, #sk-container-id-6 div.sk-parallel-item::before {content: \"\";position: absolute;border-left: 1px solid gray;box-sizing: border-box;top: 0;bottom: 0;left: 50%;z-index: -1;}#sk-container-id-6 div.sk-parallel-item {display: flex;flex-direction: column;z-index: 1;position: relative;background-color: white;}#sk-container-id-6 div.sk-parallel-item:first-child::after {align-self: flex-end;width: 50%;}#sk-container-id-6 div.sk-parallel-item:last-child::after {align-self: flex-start;width: 50%;}#sk-container-id-6 div.sk-parallel-item:only-child::after {width: 0;}#sk-container-id-6 div.sk-dashed-wrapped {border: 1px dashed gray;margin: 0 0.4em 0.5em 0.4em;box-sizing: border-box;padding-bottom: 0.4em;background-color: white;}#sk-container-id-6 div.sk-label label {font-family: monospace;font-weight: bold;display: inline-block;line-height: 1.2em;}#sk-container-id-6 div.sk-label-container {text-align: center;}#sk-container-id-6 div.sk-container {/* jupyter's `normalize.less` sets `[hidden] { display: none; }` but bootstrap.min.css set `[hidden] { display: none !important; }` so we also need the `!important` here to be able to override the default hidden behavior on the sphinx rendered scikit-learn.org. See: https://github.com/scikit-learn/scikit-learn/issues/21755 */display: inline-block !important;position: relative;}#sk-container-id-6 div.sk-text-repr-fallback {display: none;}</style><div id=\"sk-container-id-6\" class=\"sk-top-container\"><div class=\"sk-text-repr-fallback\"><pre>Pipeline(steps=[(&#x27;minmax&#x27;, MinMaxScaler()), (&#x27;GNB&#x27;, GaussianNB())])</pre><b>In a Jupyter environment, please rerun this cell to show the HTML representation or trust the notebook. <br />On GitHub, the HTML representation is unable to render, please try loading this page with nbviewer.org.</b></div><div class=\"sk-container\" hidden><div class=\"sk-item sk-dashed-wrapped\"><div class=\"sk-label-container\"><div class=\"sk-label sk-toggleable\"><input class=\"sk-toggleable__control sk-hidden--visually\" id=\"sk-estimator-id-20\" type=\"checkbox\" ><label for=\"sk-estimator-id-20\" class=\"sk-toggleable__label sk-toggleable__label-arrow\">Pipeline</label><div class=\"sk-toggleable__content\"><pre>Pipeline(steps=[(&#x27;minmax&#x27;, MinMaxScaler()), (&#x27;GNB&#x27;, GaussianNB())])</pre></div></div></div><div class=\"sk-serial\"><div class=\"sk-item\"><div class=\"sk-estimator sk-toggleable\"><input class=\"sk-toggleable__control sk-hidden--visually\" id=\"sk-estimator-id-21\" type=\"checkbox\" ><label for=\"sk-estimator-id-21\" class=\"sk-toggleable__label sk-toggleable__label-arrow\">MinMaxScaler</label><div class=\"sk-toggleable__content\"><pre>MinMaxScaler()</pre></div></div></div><div class=\"sk-item\"><div class=\"sk-estimator sk-toggleable\"><input class=\"sk-toggleable__control sk-hidden--visually\" id=\"sk-estimator-id-22\" type=\"checkbox\" ><label for=\"sk-estimator-id-22\" class=\"sk-toggleable__label sk-toggleable__label-arrow\">GaussianNB</label><div class=\"sk-toggleable__content\"><pre>GaussianNB()</pre></div></div></div></div></div></div></div>"
      ],
      "text/plain": [
       "Pipeline(steps=[('minmax', MinMaxScaler()), ('GNB', GaussianNB())])"
      ]
     },
     "execution_count": 69,
     "metadata": {},
     "output_type": "execute_result"
    }
   ],
   "source": [
    "gnb.fit(X_train_1, y_train_1)"
   ]
  },
  {
   "cell_type": "code",
   "execution_count": 70,
   "id": "fb36d89d",
   "metadata": {},
   "outputs": [],
   "source": [
    "pred_val = gnb.predict(X_val)"
   ]
  },
  {
   "cell_type": "code",
   "execution_count": 71,
   "id": "2fb52536",
   "metadata": {},
   "outputs": [
    {
     "name": "stdout",
     "output_type": "stream",
     "text": [
      "              precision    recall  f1-score   support\n",
      "\n",
      "           1       0.94      0.69      0.79     11750\n",
      "           2       0.44      0.56      0.50      1087\n",
      "           3       0.63      0.93      0.75       579\n",
      "           4       0.29      0.79      0.42      1291\n",
      "           5       0.54      0.72      0.62      1161\n",
      "\n",
      "    accuracy                           0.70     15868\n",
      "   macro avg       0.57      0.74      0.62     15868\n",
      "weighted avg       0.82      0.70      0.73     15868\n",
      "\n"
     ]
    }
   ],
   "source": [
    "print(classification_report(y_val, pred_val))"
   ]
  },
  {
   "cell_type": "code",
   "execution_count": 72,
   "id": "38a2a536",
   "metadata": {},
   "outputs": [
    {
     "name": "stdout",
     "output_type": "stream",
     "text": [
      "[[8065  649  143 2232  661]\n",
      " [  23  612  173  236   43]\n",
      " [   0   39  540    0    0]\n",
      " [ 188   71    5 1021    6]\n",
      " [ 265    8    0   56  832]]\n"
     ]
    }
   ],
   "source": [
    "print(confusion_matrix(y_val, pred_val))"
   ]
  },
  {
   "cell_type": "code",
   "execution_count": 73,
   "id": "82ee857b",
   "metadata": {},
   "outputs": [],
   "source": [
    "pred = gnb.predict(X_test)"
   ]
  },
  {
   "cell_type": "code",
   "execution_count": 74,
   "id": "084dce50",
   "metadata": {},
   "outputs": [
    {
     "name": "stdout",
     "output_type": "stream",
     "text": [
      "              precision    recall  f1-score   support\n",
      "\n",
      "           1       0.95      0.70      0.81     14688\n",
      "           2       0.44      0.55      0.49      1358\n",
      "           3       0.67      0.94      0.78       724\n",
      "           4       0.30      0.80      0.43      1614\n",
      "           5       0.56      0.72      0.63      1451\n",
      "\n",
      "    accuracy                           0.71     19835\n",
      "   macro avg       0.58      0.74      0.63     19835\n",
      "weighted avg       0.82      0.71      0.74     19835\n",
      "\n"
     ]
    }
   ],
   "source": [
    "print(classification_report(y_test, pred))"
   ]
  },
  {
   "cell_type": "code",
   "execution_count": 75,
   "id": "7b32e00b",
   "metadata": {},
   "outputs": [
    {
     "name": "stdout",
     "output_type": "stream",
     "text": [
      "[[10325   807   149  2660   747]\n",
      " [   38   748   174   324    74]\n",
      " [    1    44   678     1     0]\n",
      " [  217    91     6  1291     9]\n",
      " [  341    13     0    53  1044]]\n"
     ]
    }
   ],
   "source": [
    "print(confusion_matrix(y_test, pred))"
   ]
  },
  {
   "cell_type": "markdown",
   "id": "6dded583",
   "metadata": {},
   "source": [
    "# ANN"
   ]
  },
  {
   "cell_type": "code",
   "execution_count": 76,
   "id": "0b44646b",
   "metadata": {},
   "outputs": [
    {
     "name": "stderr",
     "output_type": "stream",
     "text": [
      "2023-07-05 10:24:47.054506: I tensorflow/tsl/cuda/cudart_stub.cc:28] Could not find cuda drivers on your machine, GPU will not be used.\n",
      "2023-07-05 10:24:47.210747: I tensorflow/tsl/cuda/cudart_stub.cc:28] Could not find cuda drivers on your machine, GPU will not be used.\n",
      "2023-07-05 10:24:47.212063: I tensorflow/core/platform/cpu_feature_guard.cc:182] This TensorFlow binary is optimized to use available CPU instructions in performance-critical operations.\n",
      "To enable the following instructions: AVX2 FMA, in other operations, rebuild TensorFlow with the appropriate compiler flags.\n",
      "2023-07-05 10:24:49.061011: W tensorflow/compiler/tf2tensorrt/utils/py_utils.cc:38] TF-TRT Warning: Could not find TensorRT\n"
     ]
    }
   ],
   "source": [
    "from tensorflow.keras.models import Sequential"
   ]
  },
  {
   "cell_type": "code",
   "execution_count": 77,
   "id": "befbf7f5",
   "metadata": {},
   "outputs": [],
   "source": [
    "from tensorflow.keras.layers import Dense, Dropout"
   ]
  },
  {
   "cell_type": "code",
   "execution_count": 78,
   "id": "324193b8",
   "metadata": {},
   "outputs": [],
   "source": [
    "from tensorflow.keras.callbacks import EarlyStopping"
   ]
  },
  {
   "cell_type": "code",
   "execution_count": 79,
   "id": "c1805b36",
   "metadata": {},
   "outputs": [],
   "source": [
    "from keras.utils import to_categorical"
   ]
  },
  {
   "cell_type": "code",
   "execution_count": 80,
   "id": "bc637073",
   "metadata": {},
   "outputs": [],
   "source": [
    "early_stop = EarlyStopping(monitor=\"val_loss\", mode=\"min\", verbose=1, patience=25)"
   ]
  },
  {
   "cell_type": "code",
   "execution_count": 81,
   "id": "08854911",
   "metadata": {},
   "outputs": [],
   "source": [
    "model = Sequential()"
   ]
  },
  {
   "cell_type": "code",
   "execution_count": 82,
   "id": "96cf9a78",
   "metadata": {},
   "outputs": [],
   "source": [
    "model.add(Dense(300, activation=\"relu\"))"
   ]
  },
  {
   "cell_type": "code",
   "execution_count": 83,
   "id": "8869db1f",
   "metadata": {},
   "outputs": [],
   "source": [
    "model.add(Dropout(0.5))"
   ]
  },
  {
   "cell_type": "code",
   "execution_count": 84,
   "id": "854cc1c7",
   "metadata": {},
   "outputs": [],
   "source": [
    "model.add(Dense(150, activation=\"relu\"))"
   ]
  },
  {
   "cell_type": "code",
   "execution_count": 85,
   "id": "0fe5b57a",
   "metadata": {},
   "outputs": [],
   "source": [
    "model.add(Dropout(0.5))"
   ]
  },
  {
   "cell_type": "code",
   "execution_count": 86,
   "id": "8203dfba",
   "metadata": {},
   "outputs": [],
   "source": [
    "model.add(Dense(75, activation=\"relu\"))"
   ]
  },
  {
   "cell_type": "code",
   "execution_count": 87,
   "id": "d681bcf4",
   "metadata": {},
   "outputs": [],
   "source": [
    "model.add(Dropout(0.5))"
   ]
  },
  {
   "cell_type": "code",
   "execution_count": 88,
   "id": "8466cac6",
   "metadata": {},
   "outputs": [],
   "source": [
    "model.add(Dense(35, activation=\"relu\"))"
   ]
  },
  {
   "cell_type": "code",
   "execution_count": 89,
   "id": "3ce92a0c",
   "metadata": {},
   "outputs": [],
   "source": [
    "model.add(Dropout(0.5))"
   ]
  },
  {
   "cell_type": "code",
   "execution_count": 90,
   "id": "fa8d27d1",
   "metadata": {},
   "outputs": [],
   "source": [
    "model.add(Dense(15, activation=\"relu\"))"
   ]
  },
  {
   "cell_type": "code",
   "execution_count": 91,
   "id": "d6b65e39",
   "metadata": {},
   "outputs": [],
   "source": [
    "model.add(Dropout(0.5))"
   ]
  },
  {
   "cell_type": "code",
   "execution_count": 92,
   "id": "68a20a0c",
   "metadata": {},
   "outputs": [],
   "source": [
    "model.add(Dense(5, activation=\"softmax\"))"
   ]
  },
  {
   "cell_type": "code",
   "execution_count": 93,
   "id": "440a93a2",
   "metadata": {},
   "outputs": [],
   "source": [
    "model.compile(loss=\"categorical_crossentropy\", optimizer=\"adam\")"
   ]
  },
  {
   "cell_type": "code",
   "execution_count": 94,
   "id": "099e5d15",
   "metadata": {},
   "outputs": [
    {
     "name": "stdout",
     "output_type": "stream",
     "text": [
      "Epoch 1/600\n",
      "1984/1984 [==============================] - 11s 5ms/step - loss: 0.6362 - val_loss: 0.3861\n",
      "Epoch 2/600\n",
      "1984/1984 [==============================] - 10s 5ms/step - loss: 0.4144 - val_loss: 0.2850\n",
      "Epoch 3/600\n",
      "1984/1984 [==============================] - 10s 5ms/step - loss: 0.3508 - val_loss: 0.2124\n",
      "Epoch 4/600\n",
      "1984/1984 [==============================] - 10s 5ms/step - loss: 0.3092 - val_loss: 0.1773\n",
      "Epoch 5/600\n",
      "1984/1984 [==============================] - 11s 5ms/step - loss: 0.2719 - val_loss: 0.1573\n",
      "Epoch 6/600\n",
      "1984/1984 [==============================] - 11s 5ms/step - loss: 0.2562 - val_loss: 0.1316\n",
      "Epoch 7/600\n",
      "1984/1984 [==============================] - 11s 6ms/step - loss: 0.2406 - val_loss: 0.1300\n",
      "Epoch 8/600\n",
      "1984/1984 [==============================] - 11s 5ms/step - loss: 0.2297 - val_loss: 0.1213\n",
      "Epoch 9/600\n",
      "1984/1984 [==============================] - 11s 6ms/step - loss: 0.2280 - val_loss: 0.1042\n",
      "Epoch 10/600\n",
      "1984/1984 [==============================] - 11s 6ms/step - loss: 0.2090 - val_loss: 0.1170\n",
      "Epoch 11/600\n",
      "1984/1984 [==============================] - 11s 6ms/step - loss: 0.2083 - val_loss: 0.1070\n",
      "Epoch 12/600\n",
      "1984/1984 [==============================] - 11s 6ms/step - loss: 0.2004 - val_loss: 0.0979\n",
      "Epoch 13/600\n",
      "1984/1984 [==============================] - 11s 6ms/step - loss: 0.1961 - val_loss: 0.1079\n",
      "Epoch 14/600\n",
      "1984/1984 [==============================] - 11s 6ms/step - loss: 0.1876 - val_loss: 0.0866\n",
      "Epoch 15/600\n",
      "1984/1984 [==============================] - 11s 6ms/step - loss: 0.1791 - val_loss: 0.0859\n",
      "Epoch 16/600\n",
      "1984/1984 [==============================] - 11s 6ms/step - loss: 0.1778 - val_loss: 0.0813\n",
      "Epoch 17/600\n",
      "1984/1984 [==============================] - 11s 6ms/step - loss: 0.1747 - val_loss: 0.0818\n",
      "Epoch 18/600\n",
      "1984/1984 [==============================] - 11s 6ms/step - loss: 0.1743 - val_loss: 0.0816\n",
      "Epoch 19/600\n",
      "1984/1984 [==============================] - 12s 6ms/step - loss: 0.1716 - val_loss: 0.0844\n",
      "Epoch 20/600\n",
      "1984/1984 [==============================] - 11s 6ms/step - loss: 0.1668 - val_loss: 0.0889\n",
      "Epoch 21/600\n",
      "1984/1984 [==============================] - 11s 6ms/step - loss: 0.1635 - val_loss: 0.0842\n",
      "Epoch 22/600\n",
      "1984/1984 [==============================] - 11s 6ms/step - loss: 0.1624 - val_loss: 0.0920\n",
      "Epoch 23/600\n",
      "1984/1984 [==============================] - 12s 6ms/step - loss: 0.1621 - val_loss: 0.0810\n",
      "Epoch 24/600\n",
      "1984/1984 [==============================] - 11s 6ms/step - loss: 0.1637 - val_loss: 0.0872\n",
      "Epoch 25/600\n",
      "1984/1984 [==============================] - 11s 6ms/step - loss: 0.1607 - val_loss: 0.0878\n",
      "Epoch 26/600\n",
      "1984/1984 [==============================] - 11s 5ms/step - loss: 0.1612 - val_loss: 0.0821\n",
      "Epoch 27/600\n",
      "1984/1984 [==============================] - 11s 5ms/step - loss: 0.1553 - val_loss: 0.0785\n",
      "Epoch 28/600\n",
      "1984/1984 [==============================] - 10s 5ms/step - loss: 0.1531 - val_loss: 0.0749\n",
      "Epoch 29/600\n",
      "1984/1984 [==============================] - 11s 5ms/step - loss: 0.1549 - val_loss: 0.0856\n",
      "Epoch 30/600\n",
      "1984/1984 [==============================] - 10s 5ms/step - loss: 0.1564 - val_loss: 0.0721\n",
      "Epoch 31/600\n",
      "1984/1984 [==============================] - 11s 5ms/step - loss: 0.1503 - val_loss: 0.0797\n",
      "Epoch 32/600\n",
      "1984/1984 [==============================] - 10s 5ms/step - loss: 0.1552 - val_loss: 0.0732\n",
      "Epoch 33/600\n",
      "1984/1984 [==============================] - 11s 5ms/step - loss: 0.1500 - val_loss: 0.0739\n",
      "Epoch 34/600\n",
      "1984/1984 [==============================] - 11s 6ms/step - loss: 0.1444 - val_loss: 0.0682\n",
      "Epoch 35/600\n",
      "1984/1984 [==============================] - 10s 5ms/step - loss: 0.1547 - val_loss: 0.0729\n",
      "Epoch 36/600\n",
      "1984/1984 [==============================] - 11s 6ms/step - loss: 0.1491 - val_loss: 0.0668\n",
      "Epoch 37/600\n",
      "1984/1984 [==============================] - 11s 5ms/step - loss: 0.1497 - val_loss: 0.0641\n",
      "Epoch 38/600\n",
      "1984/1984 [==============================] - 10s 5ms/step - loss: 0.1439 - val_loss: 0.0710\n",
      "Epoch 39/600\n",
      "1984/1984 [==============================] - 11s 5ms/step - loss: 0.1506 - val_loss: 0.0684\n",
      "Epoch 40/600\n",
      "1984/1984 [==============================] - 10s 5ms/step - loss: 0.1373 - val_loss: 0.0713\n",
      "Epoch 41/600\n",
      "1984/1984 [==============================] - 11s 6ms/step - loss: 0.1434 - val_loss: 0.0677\n",
      "Epoch 42/600\n",
      "1984/1984 [==============================] - 10s 5ms/step - loss: 0.1417 - val_loss: 0.0767\n",
      "Epoch 43/600\n",
      "1984/1984 [==============================] - 10s 5ms/step - loss: 0.1415 - val_loss: 0.0708\n",
      "Epoch 44/600\n",
      "1984/1984 [==============================] - 11s 5ms/step - loss: 0.1507 - val_loss: 0.0650\n",
      "Epoch 45/600\n",
      "1984/1984 [==============================] - 11s 5ms/step - loss: 0.1439 - val_loss: 0.0724\n",
      "Epoch 46/600\n",
      "1984/1984 [==============================] - 10s 5ms/step - loss: 0.1487 - val_loss: 0.0691\n",
      "Epoch 47/600\n",
      "1984/1984 [==============================] - 11s 5ms/step - loss: 0.1398 - val_loss: 0.0787\n",
      "Epoch 48/600\n",
      "1984/1984 [==============================] - 11s 5ms/step - loss: 0.1477 - val_loss: 0.0849\n",
      "Epoch 49/600\n",
      "1984/1984 [==============================] - 10s 5ms/step - loss: 0.1405 - val_loss: 0.0660\n",
      "Epoch 50/600\n",
      "1984/1984 [==============================] - 11s 5ms/step - loss: 0.1400 - val_loss: 0.0718\n",
      "Epoch 51/600\n",
      "1984/1984 [==============================] - 11s 5ms/step - loss: 0.1519 - val_loss: 0.0691\n",
      "Epoch 52/600\n",
      "1984/1984 [==============================] - 11s 5ms/step - loss: 0.1337 - val_loss: 0.0689\n",
      "Epoch 53/600\n",
      "1984/1984 [==============================] - 384s 194ms/step - loss: 0.1342 - val_loss: 0.0746\n",
      "Epoch 54/600\n",
      "1984/1984 [==============================] - 9s 4ms/step - loss: 0.1354 - val_loss: 0.0782\n",
      "Epoch 55/600\n",
      "1984/1984 [==============================] - 8s 4ms/step - loss: 0.1369 - val_loss: 0.0796\n",
      "Epoch 56/600\n",
      "1984/1984 [==============================] - 8s 4ms/step - loss: 0.1476 - val_loss: 0.0704\n",
      "Epoch 57/600\n",
      "1984/1984 [==============================] - 8s 4ms/step - loss: 0.1456 - val_loss: 0.0695\n",
      "Epoch 58/600\n",
      "1984/1984 [==============================] - 8s 4ms/step - loss: 0.1412 - val_loss: 0.0807\n",
      "Epoch 59/600\n",
      "1984/1984 [==============================] - 8s 4ms/step - loss: 0.1359 - val_loss: 0.0677\n",
      "Epoch 60/600\n",
      "1984/1984 [==============================] - 8s 4ms/step - loss: 0.1393 - val_loss: 0.0711\n",
      "Epoch 61/600\n",
      "1984/1984 [==============================] - 9s 4ms/step - loss: 0.1427 - val_loss: 0.0687\n",
      "Epoch 62/600\n",
      "1984/1984 [==============================] - 9s 5ms/step - loss: 0.1326 - val_loss: 0.0694\n",
      "Epoch 62: early stopping\n"
     ]
    },
    {
     "data": {
      "text/plain": [
       "<keras.callbacks.History at 0x7fce885ebe20>"
      ]
     },
     "execution_count": 94,
     "metadata": {},
     "output_type": "execute_result"
    }
   ],
   "source": [
    "model.fit(\n",
    "    x=X_train_1,\n",
    "    y=to_categorical(y_train_1)[:, 1:],\n",
    "    epochs=600,\n",
    "    validation_data=(X_val, to_categorical(y_val)[:, 1:]),\n",
    "    batch_size=32,\n",
    "    callbacks=[early_stop],\n",
    ")"
   ]
  },
  {
   "cell_type": "code",
   "execution_count": 95,
   "id": "2f8c25c0",
   "metadata": {},
   "outputs": [],
   "source": [
    "losses = pd.DataFrame(model.history.history)"
   ]
  },
  {
   "cell_type": "code",
   "execution_count": 96,
   "id": "7e61b4da",
   "metadata": {},
   "outputs": [
    {
     "data": {
      "text/plain": [
       "<Axes: >"
      ]
     },
     "execution_count": 96,
     "metadata": {},
     "output_type": "execute_result"
    },
    {
     "data": {
      "image/png": "[encoded data removed]",
      "text/plain": [
       "<Figure size 640x480 with 1 Axes>"
      ]
     },
     "metadata": {},
     "output_type": "display_data"
    }
   ],
   "source": [
    "losses.plot()"
   ]
  },
  {
   "cell_type": "code",
   "execution_count": 97,
   "id": "2c8079f3",
   "metadata": {},
   "outputs": [
    {
     "name": "stdout",
     "output_type": "stream",
     "text": [
      "620/620 [==============================] - 1s 2ms/step\n"
     ]
    }
   ],
   "source": [
    "probs = model.predict(X_test)"
   ]
  },
  {
   "cell_type": "code",
   "execution_count": 98,
   "id": "becfcbd2",
   "metadata": {},
   "outputs": [],
   "source": [
    "preds = np.argmax(probs, axis=1)"
   ]
  },
  {
   "cell_type": "code",
   "execution_count": 99,
   "id": "6a8e4477",
   "metadata": {},
   "outputs": [],
   "source": [
    "preds = preds + 1"
   ]
  },
  {
   "cell_type": "code",
   "execution_count": 100,
   "id": "bf23959a",
   "metadata": {},
   "outputs": [
    {
     "data": {
      "text/plain": [
       "array([3, 1, 1, ..., 1, 2, 1])"
      ]
     },
     "execution_count": 100,
     "metadata": {},
     "output_type": "execute_result"
    }
   ],
   "source": [
    "y_test"
   ]
  },
  {
   "cell_type": "code",
   "execution_count": 101,
   "id": "2ffec930",
   "metadata": {},
   "outputs": [
    {
     "name": "stdout",
     "output_type": "stream",
     "text": [
      "              precision    recall  f1-score   support\n",
      "\n",
      "           1       0.99      1.00      0.99     14688\n",
      "           2       0.98      0.93      0.95      1358\n",
      "           3       1.00      1.00      1.00       724\n",
      "           4       0.98      0.99      0.98      1614\n",
      "           5       0.99      0.99      0.99      1451\n",
      "\n",
      "    accuracy                           0.99     19835\n",
      "   macro avg       0.99      0.98      0.98     19835\n",
      "weighted avg       0.99      0.99      0.99     19835\n",
      "\n"
     ]
    }
   ],
   "source": [
    "print(classification_report(y_test, preds))"
   ]
  },
  {
   "cell_type": "code",
   "execution_count": 102,
   "id": "e7fcdff4",
   "metadata": {},
   "outputs": [
    {
     "name": "stdout",
     "output_type": "stream",
     "text": [
      "[[14638    21     1    18    10]\n",
      " [   84  1257     1    11     5]\n",
      " [    1     0   722     1     0]\n",
      " [   10     9     0  1592     3]\n",
      " [   10     0     0     1  1440]]\n"
     ]
    }
   ],
   "source": [
    "print(confusion_matrix(y_test, preds))"
   ]
  },
  {
   "cell_type": "code",
   "execution_count": null,
   "id": "e176245d",
   "metadata": {},
   "outputs": [],
   "source": []
  },
  {
   "cell_type": "code",
   "execution_count": null,
   "id": "a584ed7a",
   "metadata": {},
   "outputs": [],
   "source": []
  },
  {
   "cell_type": "code",
   "execution_count": null,
   "id": "a792de15",
   "metadata": {},
   "outputs": [],
   "source": []
  },
  {
   "cell_type": "code",
   "execution_count": null,
   "id": "99794d3f",
   "metadata": {},
   "outputs": [],
   "source": []
  }
 ],
 "metadata": {
  "kernelspec": {
   "display_name": "Python 3 (ipykernel)",
   "language": "python",
   "name": "python3"
  },
  "language_info": {
   "codemirror_mode": {
    "name": "ipython",
    "version": 3
   },
   "file_extension": ".py",
   "mimetype": "text/x-python",
   "name": "python",
   "nbconvert_exporter": "python",
   "pygments_lexer": "ipython3",
   "version": "3.9.7"
  }
 },
 "nbformat": 4,
 "nbformat_minor": 5
}
