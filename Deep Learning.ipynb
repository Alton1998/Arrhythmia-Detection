{
 "cells": [
  {
   "cell_type": "markdown",
   "id": "42dd23ba",
   "metadata": {},
   "source": [
    "# Deep Learning"
   ]
  },
  {
   "cell_type": "code",
   "execution_count": 1,
   "id": "c7e95536",
   "metadata": {},
   "outputs": [],
   "source": [
    "import torch\n",
    "import torch.nn as nn\n",
    "import torch.nn.functional as F\n",
    "\n",
    "import numpy as np\n",
    "import matplotlib.pyplot as plt\n",
    "import seaborn as sns\n",
    "import pandas as pd"
   ]
  },
  {
   "cell_type": "code",
   "execution_count": 2,
   "id": "ad9e7a5f",
   "metadata": {},
   "outputs": [],
   "source": [
    "%matplotlib inline"
   ]
  },
  {
   "cell_type": "markdown",
   "id": "b1f12d97",
   "metadata": {},
   "source": [
    "## Loading data "
   ]
  },
  {
   "cell_type": "code",
   "execution_count": 3,
   "id": "9222ffc7",
   "metadata": {},
   "outputs": [],
   "source": [
    "df = pd.read_csv(\"./processed_data/processed_data/ecg_processed_data.csv\", index_col=0)"
   ]
  },
  {
   "cell_type": "code",
   "execution_count": 4,
   "id": "19d05b4c",
   "metadata": {},
   "outputs": [
    {
     "data": {
      "text/html": [
       "<div>\n",
       "<style scoped>\n",
       "    .dataframe tbody tr th:only-of-type {\n",
       "        vertical-align: middle;\n",
       "    }\n",
       "\n",
       "    .dataframe tbody tr th {\n",
       "        vertical-align: top;\n",
       "    }\n",
       "\n",
       "    .dataframe thead th {\n",
       "        text-align: right;\n",
       "    }\n",
       "</style>\n",
       "<table border=\"1\" class=\"dataframe\">\n",
       "  <thead>\n",
       "    <tr style=\"text-align: right;\">\n",
       "      <th></th>\n",
       "      <th>Record ID</th>\n",
       "      <th>Segment Start</th>\n",
       "      <th>Segment End</th>\n",
       "      <th>0</th>\n",
       "      <th>1</th>\n",
       "      <th>2</th>\n",
       "      <th>3</th>\n",
       "      <th>4</th>\n",
       "      <th>5</th>\n",
       "      <th>6</th>\n",
       "      <th>...</th>\n",
       "      <th>191</th>\n",
       "      <th>192</th>\n",
       "      <th>193</th>\n",
       "      <th>194</th>\n",
       "      <th>195</th>\n",
       "      <th>196</th>\n",
       "      <th>197</th>\n",
       "      <th>198</th>\n",
       "      <th>199</th>\n",
       "      <th>Annotation Class</th>\n",
       "    </tr>\n",
       "  </thead>\n",
       "  <tbody>\n",
       "    <tr>\n",
       "      <th>0</th>\n",
       "      <td>100</td>\n",
       "      <td>13</td>\n",
       "      <td>213</td>\n",
       "      <td>0.059449</td>\n",
       "      <td>0.055308</td>\n",
       "      <td>0.052035</td>\n",
       "      <td>0.049666</td>\n",
       "      <td>0.047961</td>\n",
       "      <td>0.046922</td>\n",
       "      <td>0.046801</td>\n",
       "      <td>...</td>\n",
       "      <td>0.029812</td>\n",
       "      <td>0.031902</td>\n",
       "      <td>0.033233</td>\n",
       "      <td>0.033981</td>\n",
       "      <td>0.034276</td>\n",
       "      <td>0.034166</td>\n",
       "      <td>0.033702</td>\n",
       "      <td>0.033134</td>\n",
       "      <td>0.032648</td>\n",
       "      <td>N</td>\n",
       "    </tr>\n",
       "    <tr>\n",
       "      <th>1</th>\n",
       "      <td>100</td>\n",
       "      <td>307</td>\n",
       "      <td>507</td>\n",
       "      <td>0.084239</td>\n",
       "      <td>0.087566</td>\n",
       "      <td>0.088956</td>\n",
       "      <td>0.088621</td>\n",
       "      <td>0.086919</td>\n",
       "      <td>0.084459</td>\n",
       "      <td>0.081823</td>\n",
       "      <td>...</td>\n",
       "      <td>0.020380</td>\n",
       "      <td>0.020170</td>\n",
       "      <td>0.020049</td>\n",
       "      <td>0.020272</td>\n",
       "      <td>0.020719</td>\n",
       "      <td>0.020971</td>\n",
       "      <td>0.020866</td>\n",
       "      <td>0.020622</td>\n",
       "      <td>0.020434</td>\n",
       "      <td>N</td>\n",
       "    </tr>\n",
       "    <tr>\n",
       "      <th>2</th>\n",
       "      <td>100</td>\n",
       "      <td>563</td>\n",
       "      <td>763</td>\n",
       "      <td>-0.006937</td>\n",
       "      <td>-0.005690</td>\n",
       "      <td>-0.005184</td>\n",
       "      <td>-0.005172</td>\n",
       "      <td>-0.005405</td>\n",
       "      <td>-0.005802</td>\n",
       "      <td>-0.006385</td>\n",
       "      <td>...</td>\n",
       "      <td>-0.083923</td>\n",
       "      <td>-0.084476</td>\n",
       "      <td>-0.084798</td>\n",
       "      <td>-0.084841</td>\n",
       "      <td>-0.084325</td>\n",
       "      <td>-0.082953</td>\n",
       "      <td>-0.080644</td>\n",
       "      <td>-0.077424</td>\n",
       "      <td>-0.073181</td>\n",
       "      <td>N</td>\n",
       "    </tr>\n",
       "    <tr>\n",
       "      <th>3</th>\n",
       "      <td>100</td>\n",
       "      <td>883</td>\n",
       "      <td>1083</td>\n",
       "      <td>0.072086</td>\n",
       "      <td>0.073128</td>\n",
       "      <td>0.073026</td>\n",
       "      <td>0.071802</td>\n",
       "      <td>0.069731</td>\n",
       "      <td>0.067336</td>\n",
       "      <td>0.065156</td>\n",
       "      <td>...</td>\n",
       "      <td>0.040917</td>\n",
       "      <td>0.040820</td>\n",
       "      <td>0.040605</td>\n",
       "      <td>0.040177</td>\n",
       "      <td>0.039328</td>\n",
       "      <td>0.038051</td>\n",
       "      <td>0.036671</td>\n",
       "      <td>0.035565</td>\n",
       "      <td>0.034817</td>\n",
       "      <td>N</td>\n",
       "    </tr>\n",
       "    <tr>\n",
       "      <th>4</th>\n",
       "      <td>100</td>\n",
       "      <td>1168</td>\n",
       "      <td>1368</td>\n",
       "      <td>0.084762</td>\n",
       "      <td>0.083995</td>\n",
       "      <td>0.082327</td>\n",
       "      <td>0.080127</td>\n",
       "      <td>0.077701</td>\n",
       "      <td>0.075216</td>\n",
       "      <td>0.072963</td>\n",
       "      <td>...</td>\n",
       "      <td>0.024691</td>\n",
       "      <td>0.025225</td>\n",
       "      <td>0.025977</td>\n",
       "      <td>0.027249</td>\n",
       "      <td>0.029211</td>\n",
       "      <td>0.031715</td>\n",
       "      <td>0.034364</td>\n",
       "      <td>0.036462</td>\n",
       "      <td>0.037443</td>\n",
       "      <td>N</td>\n",
       "    </tr>\n",
       "  </tbody>\n",
       "</table>\n",
       "<p>5 rows × 204 columns</p>\n",
       "</div>"
      ],
      "text/plain": [
       "   Record ID  Segment Start  Segment End         0         1         2  \\\n",
       "0        100             13          213  0.059449  0.055308  0.052035   \n",
       "1        100            307          507  0.084239  0.087566  0.088956   \n",
       "2        100            563          763 -0.006937 -0.005690 -0.005184   \n",
       "3        100            883         1083  0.072086  0.073128  0.073026   \n",
       "4        100           1168         1368  0.084762  0.083995  0.082327   \n",
       "\n",
       "          3         4         5         6  ...       191       192       193  \\\n",
       "0  0.049666  0.047961  0.046922  0.046801  ...  0.029812  0.031902  0.033233   \n",
       "1  0.088621  0.086919  0.084459  0.081823  ...  0.020380  0.020170  0.020049   \n",
       "2 -0.005172 -0.005405 -0.005802 -0.006385  ... -0.083923 -0.084476 -0.084798   \n",
       "3  0.071802  0.069731  0.067336  0.065156  ...  0.040917  0.040820  0.040605   \n",
       "4  0.080127  0.077701  0.075216  0.072963  ...  0.024691  0.025225  0.025977   \n",
       "\n",
       "        194       195       196       197       198       199  \\\n",
       "0  0.033981  0.034276  0.034166  0.033702  0.033134  0.032648   \n",
       "1  0.020272  0.020719  0.020971  0.020866  0.020622  0.020434   \n",
       "2 -0.084841 -0.084325 -0.082953 -0.080644 -0.077424 -0.073181   \n",
       "3  0.040177  0.039328  0.038051  0.036671  0.035565  0.034817   \n",
       "4  0.027249  0.029211  0.031715  0.034364  0.036462  0.037443   \n",
       "\n",
       "   Annotation Class  \n",
       "0                 N  \n",
       "1                 N  \n",
       "2                 N  \n",
       "3                 N  \n",
       "4                 N  \n",
       "\n",
       "[5 rows x 204 columns]"
      ]
     },
     "execution_count": 4,
     "metadata": {},
     "output_type": "execute_result"
    }
   ],
   "source": [
    "df.head()"
   ]
  },
  {
   "cell_type": "code",
   "execution_count": 5,
   "id": "95e6f29a",
   "metadata": {},
   "outputs": [
    {
     "data": {
      "text/html": [
       "<div>\n",
       "<style scoped>\n",
       "    .dataframe tbody tr th:only-of-type {\n",
       "        vertical-align: middle;\n",
       "    }\n",
       "\n",
       "    .dataframe tbody tr th {\n",
       "        vertical-align: top;\n",
       "    }\n",
       "\n",
       "    .dataframe thead th {\n",
       "        text-align: right;\n",
       "    }\n",
       "</style>\n",
       "<table border=\"1\" class=\"dataframe\">\n",
       "  <thead>\n",
       "    <tr style=\"text-align: right;\">\n",
       "      <th></th>\n",
       "      <th>count</th>\n",
       "      <th>mean</th>\n",
       "      <th>std</th>\n",
       "      <th>min</th>\n",
       "      <th>25%</th>\n",
       "      <th>50%</th>\n",
       "      <th>75%</th>\n",
       "      <th>max</th>\n",
       "    </tr>\n",
       "  </thead>\n",
       "  <tbody>\n",
       "    <tr>\n",
       "      <th>Record ID</th>\n",
       "      <td>99174.0</td>\n",
       "      <td>170.801752</td>\n",
       "      <td>51.985347</td>\n",
       "      <td>100.000000</td>\n",
       "      <td>114.000000</td>\n",
       "      <td>203.000000</td>\n",
       "      <td>215.000000</td>\n",
       "      <td>234.000000</td>\n",
       "    </tr>\n",
       "    <tr>\n",
       "      <th>Segment Start</th>\n",
       "      <td>99174.0</td>\n",
       "      <td>325045.609051</td>\n",
       "      <td>188363.760147</td>\n",
       "      <td>9.000000</td>\n",
       "      <td>160745.000000</td>\n",
       "      <td>326069.500000</td>\n",
       "      <td>488528.500000</td>\n",
       "      <td>649793.000000</td>\n",
       "    </tr>\n",
       "    <tr>\n",
       "      <th>Segment End</th>\n",
       "      <td>99174.0</td>\n",
       "      <td>325245.609051</td>\n",
       "      <td>188363.760147</td>\n",
       "      <td>209.000000</td>\n",
       "      <td>160945.000000</td>\n",
       "      <td>326269.500000</td>\n",
       "      <td>488728.500000</td>\n",
       "      <td>649993.000000</td>\n",
       "    </tr>\n",
       "    <tr>\n",
       "      <th>0</th>\n",
       "      <td>99174.0</td>\n",
       "      <td>-0.042127</td>\n",
       "      <td>0.119547</td>\n",
       "      <td>-1.900955</td>\n",
       "      <td>-0.097349</td>\n",
       "      <td>-0.045074</td>\n",
       "      <td>0.006416</td>\n",
       "      <td>2.195452</td>\n",
       "    </tr>\n",
       "    <tr>\n",
       "      <th>1</th>\n",
       "      <td>99174.0</td>\n",
       "      <td>-0.042054</td>\n",
       "      <td>0.118728</td>\n",
       "      <td>-1.887876</td>\n",
       "      <td>-0.097490</td>\n",
       "      <td>-0.044461</td>\n",
       "      <td>0.006934</td>\n",
       "      <td>2.207827</td>\n",
       "    </tr>\n",
       "    <tr>\n",
       "      <th>...</th>\n",
       "      <td>...</td>\n",
       "      <td>...</td>\n",
       "      <td>...</td>\n",
       "      <td>...</td>\n",
       "      <td>...</td>\n",
       "      <td>...</td>\n",
       "      <td>...</td>\n",
       "      <td>...</td>\n",
       "    </tr>\n",
       "    <tr>\n",
       "      <th>195</th>\n",
       "      <td>99174.0</td>\n",
       "      <td>0.068449</td>\n",
       "      <td>0.243398</td>\n",
       "      <td>-2.685320</td>\n",
       "      <td>-0.058351</td>\n",
       "      <td>-0.001114</td>\n",
       "      <td>0.128255</td>\n",
       "      <td>2.462435</td>\n",
       "    </tr>\n",
       "    <tr>\n",
       "      <th>196</th>\n",
       "      <td>99174.0</td>\n",
       "      <td>0.065637</td>\n",
       "      <td>0.240538</td>\n",
       "      <td>-2.715343</td>\n",
       "      <td>-0.058428</td>\n",
       "      <td>-0.001539</td>\n",
       "      <td>0.122874</td>\n",
       "      <td>2.480217</td>\n",
       "    </tr>\n",
       "    <tr>\n",
       "      <th>197</th>\n",
       "      <td>99174.0</td>\n",
       "      <td>0.062668</td>\n",
       "      <td>0.237743</td>\n",
       "      <td>-2.734072</td>\n",
       "      <td>-0.058666</td>\n",
       "      <td>-0.002161</td>\n",
       "      <td>0.117917</td>\n",
       "      <td>2.494743</td>\n",
       "    </tr>\n",
       "    <tr>\n",
       "      <th>198</th>\n",
       "      <td>99174.0</td>\n",
       "      <td>0.059560</td>\n",
       "      <td>0.234978</td>\n",
       "      <td>-2.743276</td>\n",
       "      <td>-0.059124</td>\n",
       "      <td>-0.003069</td>\n",
       "      <td>0.112630</td>\n",
       "      <td>2.506468</td>\n",
       "    </tr>\n",
       "    <tr>\n",
       "      <th>199</th>\n",
       "      <td>99174.0</td>\n",
       "      <td>0.056335</td>\n",
       "      <td>0.232210</td>\n",
       "      <td>-2.742996</td>\n",
       "      <td>-0.059530</td>\n",
       "      <td>-0.004525</td>\n",
       "      <td>0.107668</td>\n",
       "      <td>2.515870</td>\n",
       "    </tr>\n",
       "  </tbody>\n",
       "</table>\n",
       "<p>203 rows × 8 columns</p>\n",
       "</div>"
      ],
      "text/plain": [
       "                 count           mean            std         min  \\\n",
       "Record ID      99174.0     170.801752      51.985347  100.000000   \n",
       "Segment Start  99174.0  325045.609051  188363.760147    9.000000   \n",
       "Segment End    99174.0  325245.609051  188363.760147  209.000000   \n",
       "0              99174.0      -0.042127       0.119547   -1.900955   \n",
       "1              99174.0      -0.042054       0.118728   -1.887876   \n",
       "...                ...            ...            ...         ...   \n",
       "195            99174.0       0.068449       0.243398   -2.685320   \n",
       "196            99174.0       0.065637       0.240538   -2.715343   \n",
       "197            99174.0       0.062668       0.237743   -2.734072   \n",
       "198            99174.0       0.059560       0.234978   -2.743276   \n",
       "199            99174.0       0.056335       0.232210   -2.742996   \n",
       "\n",
       "                         25%            50%            75%            max  \n",
       "Record ID         114.000000     203.000000     215.000000     234.000000  \n",
       "Segment Start  160745.000000  326069.500000  488528.500000  649793.000000  \n",
       "Segment End    160945.000000  326269.500000  488728.500000  649993.000000  \n",
       "0                  -0.097349      -0.045074       0.006416       2.195452  \n",
       "1                  -0.097490      -0.044461       0.006934       2.207827  \n",
       "...                      ...            ...            ...            ...  \n",
       "195                -0.058351      -0.001114       0.128255       2.462435  \n",
       "196                -0.058428      -0.001539       0.122874       2.480217  \n",
       "197                -0.058666      -0.002161       0.117917       2.494743  \n",
       "198                -0.059124      -0.003069       0.112630       2.506468  \n",
       "199                -0.059530      -0.004525       0.107668       2.515870  \n",
       "\n",
       "[203 rows x 8 columns]"
      ]
     },
     "execution_count": 5,
     "metadata": {},
     "output_type": "execute_result"
    }
   ],
   "source": [
    "df.describe().transpose()"
   ]
  },
  {
   "cell_type": "code",
   "execution_count": 6,
   "id": "8ed4cf71",
   "metadata": {},
   "outputs": [
    {
     "name": "stdout",
     "output_type": "stream",
     "text": [
      "<class 'pandas.core.frame.DataFrame'>\n",
      "Index: 99174 entries, 0 to 99173\n",
      "Columns: 204 entries, Record ID to Annotation Class\n",
      "dtypes: float64(200), int64(3), object(1)\n",
      "memory usage: 155.1+ MB\n"
     ]
    }
   ],
   "source": [
    "df.info()"
   ]
  },
  {
   "cell_type": "markdown",
   "id": "cd816167",
   "metadata": {},
   "source": [
    "## Preprocessing"
   ]
  },
  {
   "cell_type": "code",
   "execution_count": 7,
   "id": "74a7fb80",
   "metadata": {},
   "outputs": [],
   "source": [
    "X = df[[str(i) for i in range(0, 200)]].values"
   ]
  },
  {
   "cell_type": "code",
   "execution_count": 8,
   "id": "681ae465",
   "metadata": {},
   "outputs": [
    {
     "data": {
      "text/plain": [
       "array([[ 0.05944944,  0.05530813,  0.05203533, ...,  0.03370211,\n",
       "         0.03313351,  0.03264835],\n",
       "       [ 0.08423915,  0.08756617,  0.08895633, ...,  0.02086591,\n",
       "         0.02062246,  0.02043396],\n",
       "       [-0.00693746, -0.00568975, -0.00518379, ..., -0.08064385,\n",
       "        -0.07742402, -0.07318052],\n",
       "       ...,\n",
       "       [-0.0464351 , -0.04455849, -0.04386177, ..., -0.08220224,\n",
       "        -0.08951841, -0.09635549],\n",
       "       [-0.09173968, -0.09411179, -0.09693917, ...,  0.01425364,\n",
       "         0.01084743,  0.0081831 ],\n",
       "       [ 0.07593816,  0.07788971,  0.07865438, ...,  0.05425404,\n",
       "         0.04719546,  0.0410799 ]])"
      ]
     },
     "execution_count": 8,
     "metadata": {},
     "output_type": "execute_result"
    }
   ],
   "source": [
    "X"
   ]
  },
  {
   "cell_type": "code",
   "execution_count": 9,
   "id": "7a523aeb",
   "metadata": {},
   "outputs": [
    {
     "data": {
      "text/plain": [
       "(99174, 200)"
      ]
     },
     "execution_count": 9,
     "metadata": {},
     "output_type": "execute_result"
    }
   ],
   "source": [
    "X.shape"
   ]
  },
  {
   "cell_type": "code",
   "execution_count": 10,
   "id": "f512f0a0",
   "metadata": {},
   "outputs": [],
   "source": [
    "y = df[\"Annotation Class\"].astype(\"category\")"
   ]
  },
  {
   "cell_type": "code",
   "execution_count": 11,
   "id": "6ec46d1a",
   "metadata": {},
   "outputs": [
    {
     "data": {
      "text/plain": [
       "count     99174\n",
       "unique        5\n",
       "top           N\n",
       "freq      73439\n",
       "Name: Annotation Class, dtype: object"
      ]
     },
     "execution_count": 11,
     "metadata": {},
     "output_type": "execute_result"
    }
   ],
   "source": [
    "y.describe()"
   ]
  },
  {
   "cell_type": "code",
   "execution_count": 12,
   "id": "ab4b182b",
   "metadata": {},
   "outputs": [
    {
     "name": "stdout",
     "output_type": "stream",
     "text": [
      "<class 'pandas.core.series.Series'>\n",
      "Index: 99174 entries, 0 to 99173\n",
      "Series name: Annotation Class\n",
      "Non-Null Count  Dtype   \n",
      "--------------  -----   \n",
      "99174 non-null  category\n",
      "dtypes: category(1)\n",
      "memory usage: 871.9 KB\n"
     ]
    }
   ],
   "source": [
    "y.info()"
   ]
  },
  {
   "cell_type": "code",
   "execution_count": 13,
   "id": "cf6fb728",
   "metadata": {},
   "outputs": [
    {
     "data": {
      "text/plain": [
       "0        2\n",
       "1        2\n",
       "2        2\n",
       "3        2\n",
       "4        2\n",
       "        ..\n",
       "99169    2\n",
       "99170    2\n",
       "99171    2\n",
       "99172    2\n",
       "99173    2\n",
       "Length: 99174, dtype: int8"
      ]
     },
     "execution_count": 13,
     "metadata": {},
     "output_type": "execute_result"
    }
   ],
   "source": [
    "y.cat.codes"
   ]
  },
  {
   "cell_type": "code",
   "execution_count": 14,
   "id": "78fef3e2",
   "metadata": {},
   "outputs": [
    {
     "data": {
      "text/plain": [
       "Index(['/', 'L', 'N', 'R', 'V'], dtype='object')"
      ]
     },
     "execution_count": 14,
     "metadata": {},
     "output_type": "execute_result"
    }
   ],
   "source": [
    "y.cat.categories"
   ]
  },
  {
   "cell_type": "code",
   "execution_count": 15,
   "id": "91ea06aa",
   "metadata": {},
   "outputs": [],
   "source": [
    "y_code = y.cat.codes.values"
   ]
  },
  {
   "cell_type": "code",
   "execution_count": 16,
   "id": "c7f9a848",
   "metadata": {},
   "outputs": [
    {
     "data": {
      "text/plain": [
       "array([2, 2, 2, ..., 2, 2, 2], dtype=int8)"
      ]
     },
     "execution_count": 16,
     "metadata": {},
     "output_type": "execute_result"
    }
   ],
   "source": [
    "y_code"
   ]
  },
  {
   "cell_type": "code",
   "execution_count": 17,
   "id": "5a0fc750",
   "metadata": {},
   "outputs": [
    {
     "data": {
      "text/plain": [
       "(99174,)"
      ]
     },
     "execution_count": 17,
     "metadata": {},
     "output_type": "execute_result"
    }
   ],
   "source": [
    "y_code.shape"
   ]
  },
  {
   "cell_type": "code",
   "execution_count": 18,
   "id": "9140c2b7",
   "metadata": {},
   "outputs": [
    {
     "data": {
      "text/plain": [
       "array([2, 2, 2, ..., 2, 2, 2], dtype=int8)"
      ]
     },
     "execution_count": 18,
     "metadata": {},
     "output_type": "execute_result"
    }
   ],
   "source": [
    "y_code"
   ]
  },
  {
   "cell_type": "code",
   "execution_count": 19,
   "id": "58fe8b30",
   "metadata": {},
   "outputs": [],
   "source": [
    "from sklearn.model_selection import train_test_split"
   ]
  },
  {
   "cell_type": "code",
   "execution_count": 20,
   "id": "f53c6ede",
   "metadata": {},
   "outputs": [],
   "source": [
    "X_train, X_test, y_train, y_test = train_test_split(\n",
    "    X, y_code, test_size=0.2, random_state=101, stratify=y, shuffle=True\n",
    ")"
   ]
  },
  {
   "cell_type": "code",
   "execution_count": 21,
   "id": "3e9cca17",
   "metadata": {},
   "outputs": [],
   "source": [
    "X_train, X_val, y_train, y_val = train_test_split(\n",
    "    X_train, y_train, test_size=0.2, random_state=101, stratify=y_train, shuffle=True\n",
    ")"
   ]
  },
  {
   "cell_type": "code",
   "execution_count": 22,
   "id": "e2fcd3a8",
   "metadata": {},
   "outputs": [],
   "source": [
    "X_train_tensor = torch.FloatTensor(X_train)\n",
    "X_val_tensor = torch.FloatTensor(X_val)\n",
    "X_test_tensor = torch.FloatTensor(X_test)\n",
    "y_train_tensor = torch.LongTensor(y_train)\n",
    "y_val_tensor = torch.LongTensor(y_val)\n",
    "y_test_tensor = torch.LongTensor(y_test)"
   ]
  },
  {
   "cell_type": "code",
   "execution_count": 23,
   "id": "7b134045",
   "metadata": {},
   "outputs": [
    {
     "data": {
      "text/plain": [
       "torch.Size([63471, 200])"
      ]
     },
     "execution_count": 23,
     "metadata": {},
     "output_type": "execute_result"
    }
   ],
   "source": [
    "X_train_tensor.shape"
   ]
  },
  {
   "cell_type": "code",
   "execution_count": 24,
   "id": "93baf83c",
   "metadata": {},
   "outputs": [
    {
     "data": {
      "text/plain": [
       "torch.Size([15868, 200])"
      ]
     },
     "execution_count": 24,
     "metadata": {},
     "output_type": "execute_result"
    }
   ],
   "source": [
    "X_val_tensor.shape"
   ]
  },
  {
   "cell_type": "markdown",
   "id": "c13c9b48",
   "metadata": {},
   "source": [
    "## ANN"
   ]
  },
  {
   "cell_type": "code",
   "execution_count": 25,
   "id": "55fd7771",
   "metadata": {},
   "outputs": [],
   "source": [
    "from ecg_deep_learning_models.models import ECGANNModel, ECGCNNModel\n",
    "from ecg_deep_learning_models.utils import (\n",
    "    count_parameters,\n",
    "    train_model,\n",
    "    eval_model,\n",
    "    show_metrics,\n",
    ")"
   ]
  },
  {
   "cell_type": "code",
   "execution_count": 26,
   "id": "12d59a01",
   "metadata": {},
   "outputs": [],
   "source": [
    "ecg_ann_model = ECGANNModel(layers=[100, 50])\n",
    "ecg_ann_model_1 = ECGANNModel(layers=[100, 50, 25])"
   ]
  },
  {
   "cell_type": "code",
   "execution_count": 27,
   "id": "488194f2",
   "metadata": {},
   "outputs": [
    {
     "name": "stdout",
     "output_type": "stream",
     "text": [
      " 20000\n",
      "   100\n",
      "  5000\n",
      "    50\n",
      "   250\n",
      "     5\n",
      "______\n",
      " 25405\n"
     ]
    }
   ],
   "source": [
    "count_parameters(ecg_ann_model)"
   ]
  },
  {
   "cell_type": "code",
   "execution_count": 28,
   "id": "df0053c2",
   "metadata": {},
   "outputs": [
    {
     "name": "stdout",
     "output_type": "stream",
     "text": [
      " 20000\n",
      "   100\n",
      "  5000\n",
      "    50\n",
      "  1250\n",
      "    25\n",
      "   125\n",
      "     5\n",
      "______\n",
      " 26555\n"
     ]
    }
   ],
   "source": [
    "count_parameters(ecg_ann_model_1)"
   ]
  },
  {
   "cell_type": "code",
   "execution_count": 29,
   "id": "df376bc2",
   "metadata": {},
   "outputs": [
    {
     "data": {
      "text/plain": [
       "ECGANNModel(\n",
       "  (layers): Sequential(\n",
       "    (0): Linear(in_features=200, out_features=100, bias=True)\n",
       "    (1): ReLU(inplace=True)\n",
       "    (2): Dropout(p=0.5, inplace=False)\n",
       "    (3): Linear(in_features=100, out_features=50, bias=True)\n",
       "    (4): ReLU(inplace=True)\n",
       "    (5): Dropout(p=0.5, inplace=False)\n",
       "    (6): Linear(in_features=50, out_features=5, bias=True)\n",
       "  )\n",
       ")"
      ]
     },
     "execution_count": 29,
     "metadata": {},
     "output_type": "execute_result"
    }
   ],
   "source": [
    "ecg_ann_model"
   ]
  },
  {
   "cell_type": "code",
   "execution_count": 30,
   "id": "13ac0ac2",
   "metadata": {},
   "outputs": [
    {
     "data": {
      "text/plain": [
       "ECGANNModel(\n",
       "  (layers): Sequential(\n",
       "    (0): Linear(in_features=200, out_features=100, bias=True)\n",
       "    (1): ReLU(inplace=True)\n",
       "    (2): Dropout(p=0.5, inplace=False)\n",
       "    (3): Linear(in_features=100, out_features=50, bias=True)\n",
       "    (4): ReLU(inplace=True)\n",
       "    (5): Dropout(p=0.5, inplace=False)\n",
       "    (6): Linear(in_features=50, out_features=25, bias=True)\n",
       "    (7): ReLU(inplace=True)\n",
       "    (8): Dropout(p=0.5, inplace=False)\n",
       "    (9): Linear(in_features=25, out_features=5, bias=True)\n",
       "  )\n",
       ")"
      ]
     },
     "execution_count": 30,
     "metadata": {},
     "output_type": "execute_result"
    }
   ],
   "source": [
    "ecg_ann_model_1"
   ]
  },
  {
   "cell_type": "code",
   "execution_count": 31,
   "id": "e3055c94",
   "metadata": {},
   "outputs": [
    {
     "data": {
      "text/plain": [
       "<generator object Module.parameters at 0x7ff6f2148ac0>"
      ]
     },
     "execution_count": 31,
     "metadata": {},
     "output_type": "execute_result"
    }
   ],
   "source": [
    "ecg_ann_model.parameters()"
   ]
  },
  {
   "cell_type": "code",
   "execution_count": 32,
   "id": "1a192bf9",
   "metadata": {},
   "outputs": [
    {
     "data": {
      "text/plain": [
       "<generator object Module.parameters at 0x7ff6f21485f0>"
      ]
     },
     "execution_count": 32,
     "metadata": {},
     "output_type": "execute_result"
    }
   ],
   "source": [
    "ecg_ann_model_1.parameters()"
   ]
  },
  {
   "cell_type": "code",
   "execution_count": 33,
   "id": "30e9087b",
   "metadata": {},
   "outputs": [
    {
     "data": {
      "text/plain": [
       "<bound method Module.parameters of ECGANNModel(\n",
       "  (layers): Sequential(\n",
       "    (0): Linear(in_features=200, out_features=100, bias=True)\n",
       "    (1): ReLU(inplace=True)\n",
       "    (2): Dropout(p=0.5, inplace=False)\n",
       "    (3): Linear(in_features=100, out_features=50, bias=True)\n",
       "    (4): ReLU(inplace=True)\n",
       "    (5): Dropout(p=0.5, inplace=False)\n",
       "    (6): Linear(in_features=50, out_features=5, bias=True)\n",
       "  )\n",
       ")>"
      ]
     },
     "execution_count": 33,
     "metadata": {},
     "output_type": "execute_result"
    }
   ],
   "source": [
    "ecg_ann_model.parameters"
   ]
  },
  {
   "cell_type": "code",
   "execution_count": 34,
   "id": "64a15516",
   "metadata": {},
   "outputs": [
    {
     "data": {
      "text/plain": [
       "<bound method Module.parameters of ECGANNModel(\n",
       "  (layers): Sequential(\n",
       "    (0): Linear(in_features=200, out_features=100, bias=True)\n",
       "    (1): ReLU(inplace=True)\n",
       "    (2): Dropout(p=0.5, inplace=False)\n",
       "    (3): Linear(in_features=100, out_features=50, bias=True)\n",
       "    (4): ReLU(inplace=True)\n",
       "    (5): Dropout(p=0.5, inplace=False)\n",
       "    (6): Linear(in_features=50, out_features=25, bias=True)\n",
       "    (7): ReLU(inplace=True)\n",
       "    (8): Dropout(p=0.5, inplace=False)\n",
       "    (9): Linear(in_features=25, out_features=5, bias=True)\n",
       "  )\n",
       ")>"
      ]
     },
     "execution_count": 34,
     "metadata": {},
     "output_type": "execute_result"
    }
   ],
   "source": [
    "ecg_ann_model_1.parameters"
   ]
  },
  {
   "cell_type": "code",
   "execution_count": 35,
   "id": "35b5d973",
   "metadata": {},
   "outputs": [
    {
     "name": "stdout",
     "output_type": "stream",
     "text": [
      "epoch:1\tTrain Loss:        0.46\tTrain Accuracy:       85.47\tTest Loss:        0.18\tTest Accuracy:       95.03\t Tolerance Count:0\n",
      "epoch:2\tTrain Loss:        0.24\tTrain Accuracy:       92.77\tTest Loss:        0.12\tTest Accuracy:       96.61\t Tolerance Count:0\n",
      "epoch:3\tTrain Loss:        0.20\tTrain Accuracy:       94.22\tTest Loss:        0.10\tTest Accuracy:       97.38\t Tolerance Count:0\n",
      "epoch:4\tTrain Loss:        0.17\tTrain Accuracy:       94.92\tTest Loss:        0.09\tTest Accuracy:       97.55\t Tolerance Count:0\n",
      "epoch:5\tTrain Loss:        0.16\tTrain Accuracy:       95.37\tTest Loss:        0.08\tTest Accuracy:       97.83\t Tolerance Count:0\n",
      "epoch:6\tTrain Loss:        0.15\tTrain Accuracy:       95.76\tTest Loss:        0.08\tTest Accuracy:       98.04\t Tolerance Count:0\n",
      "epoch:7\tTrain Loss:        0.14\tTrain Accuracy:       95.96\tTest Loss:        0.07\tTest Accuracy:       98.15\t Tolerance Count:0\n",
      "epoch:8\tTrain Loss:        0.14\tTrain Accuracy:       96.10\tTest Loss:        0.07\tTest Accuracy:       98.22\t Tolerance Count:0\n",
      "epoch:9\tTrain Loss:        0.13\tTrain Accuracy:       96.42\tTest Loss:        0.07\tTest Accuracy:       98.31\t Tolerance Count:0\n",
      "epoch:10\tTrain Loss:        0.12\tTrain Accuracy:       96.42\tTest Loss:        0.06\tTest Accuracy:       98.32\t Tolerance Count:0\n",
      "epoch:11\tTrain Loss:        0.12\tTrain Accuracy:       96.58\tTest Loss:        0.06\tTest Accuracy:       98.39\t Tolerance Count:0\n",
      "epoch:12\tTrain Loss:        0.12\tTrain Accuracy:       96.72\tTest Loss:        0.06\tTest Accuracy:       98.44\t Tolerance Count:0\n",
      "epoch:13\tTrain Loss:        0.12\tTrain Accuracy:       96.73\tTest Loss:        0.06\tTest Accuracy:       98.49\t Tolerance Count:0\n",
      "epoch:14\tTrain Loss:        0.11\tTrain Accuracy:       96.86\tTest Loss:        0.06\tTest Accuracy:       98.46\t Tolerance Count:0\n",
      "epoch:15\tTrain Loss:        0.11\tTrain Accuracy:       96.88\tTest Loss:        0.06\tTest Accuracy:       98.49\t Tolerance Count:0\n",
      "epoch:16\tTrain Loss:        0.11\tTrain Accuracy:       97.02\tTest Loss:        0.06\tTest Accuracy:       98.47\t Tolerance Count:0\n",
      "epoch:17\tTrain Loss:        0.11\tTrain Accuracy:       96.94\tTest Loss:        0.06\tTest Accuracy:       98.47\t Tolerance Count:0\n",
      "epoch:18\tTrain Loss:        0.11\tTrain Accuracy:       96.93\tTest Loss:        0.05\tTest Accuracy:       98.48\t Tolerance Count:0\n",
      "epoch:19\tTrain Loss:        0.10\tTrain Accuracy:       97.01\tTest Loss:        0.05\tTest Accuracy:       98.51\t Tolerance Count:0\n",
      "epoch:20\tTrain Loss:        0.10\tTrain Accuracy:       97.02\tTest Loss:        0.05\tTest Accuracy:       98.52\t Tolerance Count:0\n",
      "epoch:21\tTrain Loss:        0.10\tTrain Accuracy:       97.01\tTest Loss:        0.05\tTest Accuracy:       98.68\t Tolerance Count:0\n",
      "epoch:22\tTrain Loss:        0.10\tTrain Accuracy:       97.06\tTest Loss:        0.05\tTest Accuracy:       98.54\t Tolerance Count:0\n",
      "epoch:23\tTrain Loss:        0.10\tTrain Accuracy:       97.14\tTest Loss:        0.05\tTest Accuracy:       98.59\t Tolerance Count:0\n",
      "epoch:24\tTrain Loss:        0.10\tTrain Accuracy:       97.08\tTest Loss:        0.05\tTest Accuracy:       98.61\t Tolerance Count:0\n",
      "epoch:25\tTrain Loss:        0.10\tTrain Accuracy:       97.19\tTest Loss:        0.05\tTest Accuracy:       98.59\t Tolerance Count:0\n",
      "epoch:26\tTrain Loss:        0.10\tTrain Accuracy:       97.26\tTest Loss:        0.05\tTest Accuracy:       98.64\t Tolerance Count:0\n",
      "epoch:27\tTrain Loss:        0.09\tTrain Accuracy:       97.32\tTest Loss:        0.05\tTest Accuracy:       98.66\t Tolerance Count:0\n",
      "epoch:28\tTrain Loss:        0.10\tTrain Accuracy:       97.25\tTest Loss:        0.05\tTest Accuracy:       98.58\t Tolerance Count:0\n",
      "epoch:29\tTrain Loss:        0.09\tTrain Accuracy:       97.34\tTest Loss:        0.05\tTest Accuracy:       98.61\t Tolerance Count:0\n",
      "epoch:30\tTrain Loss:        0.09\tTrain Accuracy:       97.40\tTest Loss:        0.05\tTest Accuracy:       98.61\t Tolerance Count:0\n",
      "\n",
      "Duration: 171 seconds\n"
     ]
    }
   ],
   "source": [
    "train_accuracies, test_accuracies, train_mean_losses, test_mean_losses = train_model(\n",
    "    model=ecg_ann_model,\n",
    "    X_train=X_train_tensor,\n",
    "    y_train=y_train_tensor,\n",
    "    X_test=X_val_tensor,\n",
    "    y_test=y_val_tensor,\n",
    "    learning_rate=0.001,\n",
    "    batch_size=100,\n",
    "    val_batch_size=100,\n",
    "    epochs=30,\n",
    ")"
   ]
  },
  {
   "cell_type": "code",
   "execution_count": 36,
   "id": "bebb8524",
   "metadata": {},
   "outputs": [
    {
     "data": {
      "image/png": "[encoded data removed]",
      "text/plain": [
       "<Figure size 640x480 with 1 Axes>"
      ]
     },
     "metadata": {},
     "output_type": "display_data"
    },
    {
     "data": {
      "image/png": "[encoded data removed]",
      "text/plain": [
       "<Figure size 640x480 with 1 Axes>"
      ]
     },
     "metadata": {},
     "output_type": "display_data"
    },
    {
     "name": "stdout",
     "output_type": "stream",
     "text": [
      "              precision    recall  f1-score   support\n",
      "\n",
      "           0       0.99      1.00      1.00       722\n",
      "           1       0.97      0.98      0.98      1596\n",
      "           2       0.99      0.99      0.99     14711\n",
      "           3       0.99      0.99      0.99      1448\n",
      "           4       0.94      0.94      0.94      1358\n",
      "\n",
      "    accuracy                           0.99     19835\n",
      "   macro avg       0.98      0.98      0.98     19835\n",
      "weighted avg       0.99      0.99      0.99     19835\n",
      "\n",
      "[[  720     0     1     0     1]\n",
      " [    0  1567    16     0    13]\n",
      " [    0    27 14605    18    61]\n",
      " [    0     2    11  1432     3]\n",
      " [    4    18    55     1  1280]]\n"
     ]
    },
    {
     "data": {
      "text/plain": [
       "(98.8353919838669, 0.04405689239501953)"
      ]
     },
     "execution_count": 36,
     "metadata": {},
     "output_type": "execute_result"
    }
   ],
   "source": [
    "show_metrics(train_accuracies, test_accuracies, train_mean_losses, test_mean_losses)\n",
    "eval_model(ecg_ann_model, X_test_tensor, y_test_tensor)"
   ]
  },
  {
   "cell_type": "code",
   "execution_count": 37,
   "id": "ae38a959",
   "metadata": {},
   "outputs": [
    {
     "name": "stdout",
     "output_type": "stream",
     "text": [
      "epoch:1\tTrain Loss:        0.58\tTrain Accuracy:       79.59\tTest Loss:        0.24\tTest Accuracy:       93.40\t Tolerance Count:0\n",
      "epoch:2\tTrain Loss:        0.32\tTrain Accuracy:       89.95\tTest Loss:        0.16\tTest Accuracy:       95.37\t Tolerance Count:0\n",
      "epoch:3\tTrain Loss:        0.26\tTrain Accuracy:       92.12\tTest Loss:        0.12\tTest Accuracy:       96.41\t Tolerance Count:0\n",
      "epoch:4\tTrain Loss:        0.23\tTrain Accuracy:       93.30\tTest Loss:        0.11\tTest Accuracy:       96.87\t Tolerance Count:0\n",
      "epoch:5\tTrain Loss:        0.21\tTrain Accuracy:       93.80\tTest Loss:        0.10\tTest Accuracy:       97.15\t Tolerance Count:0\n",
      "epoch:6\tTrain Loss:        0.20\tTrain Accuracy:       94.33\tTest Loss:        0.09\tTest Accuracy:       97.27\t Tolerance Count:0\n",
      "epoch:7\tTrain Loss:        0.18\tTrain Accuracy:       94.72\tTest Loss:        0.09\tTest Accuracy:       97.56\t Tolerance Count:0\n",
      "epoch:8\tTrain Loss:        0.18\tTrain Accuracy:       94.81\tTest Loss:        0.08\tTest Accuracy:       97.75\t Tolerance Count:0\n",
      "epoch:9\tTrain Loss:        0.17\tTrain Accuracy:       95.08\tTest Loss:        0.08\tTest Accuracy:       97.83\t Tolerance Count:0\n",
      "epoch:10\tTrain Loss:        0.17\tTrain Accuracy:       95.03\tTest Loss:        0.07\tTest Accuracy:       98.07\t Tolerance Count:0\n",
      "epoch:11\tTrain Loss:        0.16\tTrain Accuracy:       95.42\tTest Loss:        0.07\tTest Accuracy:       97.97\t Tolerance Count:0\n",
      "epoch:12\tTrain Loss:        0.16\tTrain Accuracy:       95.63\tTest Loss:        0.07\tTest Accuracy:       98.17\t Tolerance Count:0\n",
      "epoch:13\tTrain Loss:        0.15\tTrain Accuracy:       95.63\tTest Loss:        0.06\tTest Accuracy:       98.25\t Tolerance Count:0\n",
      "epoch:14\tTrain Loss:        0.15\tTrain Accuracy:       95.70\tTest Loss:        0.07\tTest Accuracy:       98.20\t Tolerance Count:0\n",
      "epoch:15\tTrain Loss:        0.15\tTrain Accuracy:       95.88\tTest Loss:        0.06\tTest Accuracy:       98.39\t Tolerance Count:0\n",
      "epoch:16\tTrain Loss:        0.15\tTrain Accuracy:       95.76\tTest Loss:        0.06\tTest Accuracy:       98.36\t Tolerance Count:0\n",
      "epoch:17\tTrain Loss:        0.14\tTrain Accuracy:       96.02\tTest Loss:        0.06\tTest Accuracy:       98.39\t Tolerance Count:0\n",
      "epoch:18\tTrain Loss:        0.14\tTrain Accuracy:       95.94\tTest Loss:        0.06\tTest Accuracy:       98.35\t Tolerance Count:0\n",
      "epoch:19\tTrain Loss:        0.14\tTrain Accuracy:       96.05\tTest Loss:        0.06\tTest Accuracy:       98.34\t Tolerance Count:0\n",
      "epoch:20\tTrain Loss:        0.14\tTrain Accuracy:       96.02\tTest Loss:        0.06\tTest Accuracy:       98.54\t Tolerance Count:0\n",
      "epoch:21\tTrain Loss:        0.13\tTrain Accuracy:       96.21\tTest Loss:        0.06\tTest Accuracy:       98.58\t Tolerance Count:0\n",
      "epoch:22\tTrain Loss:        0.13\tTrain Accuracy:       96.20\tTest Loss:        0.06\tTest Accuracy:       98.55\t Tolerance Count:0\n",
      "epoch:23\tTrain Loss:        0.13\tTrain Accuracy:       96.33\tTest Loss:        0.05\tTest Accuracy:       98.54\t Tolerance Count:0\n",
      "epoch:24\tTrain Loss:        0.13\tTrain Accuracy:       96.21\tTest Loss:        0.06\tTest Accuracy:       98.52\t Tolerance Count:0\n",
      "epoch:25\tTrain Loss:        0.13\tTrain Accuracy:       96.42\tTest Loss:        0.05\tTest Accuracy:       98.62\t Tolerance Count:0\n",
      "epoch:26\tTrain Loss:        0.13\tTrain Accuracy:       96.32\tTest Loss:        0.05\tTest Accuracy:       98.62\t Tolerance Count:0\n",
      "epoch:27\tTrain Loss:        0.13\tTrain Accuracy:       96.34\tTest Loss:        0.06\tTest Accuracy:       98.40\t Tolerance Count:0\n",
      "epoch:28\tTrain Loss:        0.13\tTrain Accuracy:       96.38\tTest Loss:        0.06\tTest Accuracy:       98.42\t Tolerance Count:0\n",
      "epoch:29\tTrain Loss:        0.13\tTrain Accuracy:       96.38\tTest Loss:        0.05\tTest Accuracy:       98.44\t Tolerance Count:0\n",
      "epoch:30\tTrain Loss:        0.13\tTrain Accuracy:       96.44\tTest Loss:        0.06\tTest Accuracy:       98.40\t Tolerance Count:0\n",
      "\n",
      "Duration: 186 seconds\n"
     ]
    }
   ],
   "source": [
    "train_accuracies, test_accuracies, train_mean_losses, test_mean_losses = train_model(\n",
    "    model=ecg_ann_model_1,\n",
    "    X_train=X_train_tensor,\n",
    "    y_train=y_train_tensor,\n",
    "    X_test=X_val_tensor,\n",
    "    y_test=y_val_tensor,\n",
    "    learning_rate=0.001,\n",
    "    batch_size=100,\n",
    "    val_batch_size=100,\n",
    "    epochs=30,\n",
    ")"
   ]
  },
  {
   "cell_type": "code",
   "execution_count": 38,
   "id": "8106e0f6",
   "metadata": {},
   "outputs": [
    {
     "data": {
      "image/png": "[encoded data removed]",
      "text/plain": [
       "<Figure size 640x480 with 1 Axes>"
      ]
     },
     "metadata": {},
     "output_type": "display_data"
    },
    {
     "data": {
      "image/png": "[encoded data removed]",
      "text/plain": [
       "<Figure size 640x480 with 1 Axes>"
      ]
     },
     "metadata": {},
     "output_type": "display_data"
    },
    {
     "name": "stdout",
     "output_type": "stream",
     "text": [
      "              precision    recall  f1-score   support\n",
      "\n",
      "           0       0.99      1.00      0.99       718\n",
      "           1       0.97      0.97      0.97      1613\n",
      "           2       0.99      0.99      0.99     14723\n",
      "           3       0.98      0.99      0.98      1440\n",
      "           4       0.93      0.94      0.93      1341\n",
      "\n",
      "    accuracy                           0.99     19835\n",
      "   macro avg       0.97      0.98      0.97     19835\n",
      "weighted avg       0.99      0.99      0.99     19835\n",
      "\n",
      "[[  716     0     0     0     2]\n",
      " [    0  1566    37     0    10]\n",
      " [    1    17 14602    26    77]\n",
      " [    0     0     8  1421    11]\n",
      " [    7    31    41     4  1258]]\n"
     ]
    },
    {
     "data": {
      "text/plain": [
       "(98.62868666498613, 0.04941364377737045)"
      ]
     },
     "execution_count": 38,
     "metadata": {},
     "output_type": "execute_result"
    }
   ],
   "source": [
    "show_metrics(train_accuracies, test_accuracies, train_mean_losses, test_mean_losses)\n",
    "eval_model(ecg_ann_model_1, X_test_tensor, y_test_tensor)"
   ]
  },
  {
   "cell_type": "markdown",
   "id": "c483d6c4",
   "metadata": {},
   "source": [
    "## CNN"
   ]
  },
  {
   "cell_type": "code",
   "execution_count": 39,
   "id": "27eb30ff",
   "metadata": {},
   "outputs": [],
   "source": [
    "ecg_cnn_model = ECGCNNModel()"
   ]
  },
  {
   "cell_type": "code",
   "execution_count": 40,
   "id": "18817c3e",
   "metadata": {},
   "outputs": [
    {
     "name": "stdout",
     "output_type": "stream",
     "text": [
      "    48\n",
      "    16\n",
      "  1536\n",
      "    32\n",
      "    32\n",
      "    32\n",
      "  6144\n",
      "    64\n",
      " 24576\n",
      "   128\n",
      "   128\n",
      "   128\n",
      "2432000\n",
      "   100\n",
      "  5000\n",
      "    50\n",
      "   250\n",
      "     5\n",
      "______\n",
      "2470269\n"
     ]
    }
   ],
   "source": [
    "count_parameters(ecg_cnn_model)"
   ]
  },
  {
   "cell_type": "code",
   "execution_count": 41,
   "id": "81385038",
   "metadata": {},
   "outputs": [
    {
     "name": "stdout",
     "output_type": "stream",
     "text": [
      "epoch:1\tTrain Loss:        0.21\tTrain Accuracy:       93.47\tTest Loss:        0.05\tTest Accuracy:       98.58\t Tolerance Count:0\n",
      "epoch:2\tTrain Loss:        0.08\tTrain Accuracy:       97.75\tTest Loss:        0.04\tTest Accuracy:       98.97\t Tolerance Count:0\n",
      "epoch:3\tTrain Loss:        0.06\tTrain Accuracy:       98.20\tTest Loss:        0.04\tTest Accuracy:       99.17\t Tolerance Count:0\n",
      "epoch:4\tTrain Loss:        0.06\tTrain Accuracy:       98.45\tTest Loss:        0.04\tTest Accuracy:       98.99\t Tolerance Count:0\n",
      "epoch:5\tTrain Loss:        0.05\tTrain Accuracy:       98.71\tTest Loss:        0.03\tTest Accuracy:       99.31\t Tolerance Count:0\n",
      "epoch:6\tTrain Loss:        0.04\tTrain Accuracy:       98.84\tTest Loss:        0.04\tTest Accuracy:       98.92\t Tolerance Count:0\n",
      "\n",
      "Duration: 733 seconds\n"
     ]
    }
   ],
   "source": [
    "train_accuracies, test_accuracies, train_mean_losses, test_mean_losses = train_model(\n",
    "    model=ecg_cnn_model,\n",
    "    X_train=X_train_tensor.reshape(-1, 1, 200),\n",
    "    y_train=y_train_tensor,\n",
    "    X_test=X_val_tensor.reshape(-1, 1, 200),\n",
    "    y_test=y_val_tensor,\n",
    "    learning_rate=0.001,\n",
    "    batch_size=100,\n",
    "    val_batch_size=100,\n",
    "    epochs=6,\n",
    ")"
   ]
  },
  {
   "cell_type": "code",
   "execution_count": 42,
   "id": "47f18580",
   "metadata": {},
   "outputs": [
    {
     "data": {
      "image/png": "[encoded data removed]",
      "text/plain": [
       "<Figure size 640x480 with 1 Axes>"
      ]
     },
     "metadata": {},
     "output_type": "display_data"
    },
    {
     "data": {
      "image/png": "[encoded data removed]",
      "text/plain": [
       "<Figure size 640x480 with 1 Axes>"
      ]
     },
     "metadata": {},
     "output_type": "display_data"
    },
    {
     "name": "stdout",
     "output_type": "stream",
     "text": [
      "              precision    recall  f1-score   support\n",
      "\n",
      "           0       1.00      1.00      1.00       726\n",
      "           1       0.94      1.00      0.97      1527\n",
      "           2       1.00      0.99      0.99     14827\n",
      "           3       0.99      0.99      0.99      1446\n",
      "           4       0.94      0.98      0.96      1309\n",
      "\n",
      "    accuracy                           0.99     19835\n",
      "   macro avg       0.97      0.99      0.98     19835\n",
      "weighted avg       0.99      0.99      0.99     19835\n",
      "\n",
      "[[  724     1     1     0     0]\n",
      " [    0  1524     2     0     1]\n",
      " [    0    71 14667    13    76]\n",
      " [    0     0     4  1438     4]\n",
      " [    0    18    14     0  1277]]\n"
     ]
    },
    {
     "data": {
      "text/plain": [
       "(98.96647340559616, 0.04281345009803772)"
      ]
     },
     "execution_count": 42,
     "metadata": {},
     "output_type": "execute_result"
    }
   ],
   "source": [
    "show_metrics(train_accuracies, test_accuracies, train_mean_losses, test_mean_losses)\n",
    "eval_model(ecg_cnn_model, X_test_tensor.reshape(-1, 1, 200), y_test_tensor)"
   ]
  },
  {
   "cell_type": "code",
   "execution_count": null,
   "id": "54018d06",
   "metadata": {},
   "outputs": [],
   "source": []
  },
  {
   "cell_type": "code",
   "execution_count": null,
   "id": "97602153",
   "metadata": {},
   "outputs": [],
   "source": []
  }
 ],
 "metadata": {
  "kernelspec": {
   "display_name": "Python 3 (ipykernel)",
   "language": "python",
   "name": "python3"
  },
  "language_info": {
   "codemirror_mode": {
    "name": "ipython",
    "version": 3
   },
   "file_extension": ".py",
   "mimetype": "text/x-python",
   "name": "python",
   "nbconvert_exporter": "python",
   "pygments_lexer": "ipython3",
   "version": "3.9.17"
  }
 },
 "nbformat": 4,
 "nbformat_minor": 5
}
