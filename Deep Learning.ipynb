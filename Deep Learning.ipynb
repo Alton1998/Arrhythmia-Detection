{
 "cells": [
  {
   "cell_type": "markdown",
   "id": "42dd23ba",
   "metadata": {},
   "source": [
    "# Deep Learning"
   ]
  },
  {
   "cell_type": "code",
   "execution_count": 1,
   "id": "c7e95536",
   "metadata": {},
   "outputs": [],
   "source": [
    "import torch\n",
    "import torch.nn as nn\n",
    "import torch.nn.functional as F\n",
    "\n",
    "import numpy as np\n",
    "import matplotlib.pyplot as plt\n",
    "import seaborn as sns\n",
    "import pandas as pd"
   ]
  },
  {
   "cell_type": "code",
   "execution_count": 2,
   "id": "ad9e7a5f",
   "metadata": {},
   "outputs": [],
   "source": [
    "%matplotlib inline"
   ]
  },
  {
   "cell_type": "markdown",
   "id": "b1f12d97",
   "metadata": {},
   "source": [
    "## Loading data "
   ]
  },
  {
   "cell_type": "code",
   "execution_count": null,
   "id": "9222ffc7",
   "metadata": {},
   "outputs": [],
   "source": [
    "df = pd.read_csv(\"./processed_data/processed_data/ecg_processed_data.csv\", index_col=0)"
   ]
  },
  {
   "cell_type": "code",
   "execution_count": null,
   "id": "19d05b4c",
   "metadata": {},
   "outputs": [],
   "source": [
    "df.head()"
   ]
  },
  {
   "cell_type": "code",
   "execution_count": null,
   "id": "95e6f29a",
   "metadata": {},
   "outputs": [],
   "source": [
    "df.describe().transpose()"
   ]
  },
  {
   "cell_type": "code",
   "execution_count": null,
   "id": "8ed4cf71",
   "metadata": {},
   "outputs": [],
   "source": [
    "df.info()"
   ]
  },
  {
   "cell_type": "markdown",
   "id": "cd816167",
   "metadata": {},
   "source": [
    "## Preprocessing"
   ]
  },
  {
   "cell_type": "code",
   "execution_count": null,
   "id": "74a7fb80",
   "metadata": {},
   "outputs": [],
   "source": [
    "X = df[[str(i) for i in range(0, 200)]].values"
   ]
  },
  {
   "cell_type": "code",
   "execution_count": null,
   "id": "681ae465",
   "metadata": {},
   "outputs": [],
   "source": [
    "X"
   ]
  },
  {
   "cell_type": "code",
   "execution_count": null,
   "id": "7a523aeb",
   "metadata": {},
   "outputs": [],
   "source": [
    "X.shape"
   ]
  },
  {
   "cell_type": "code",
   "execution_count": null,
   "id": "f512f0a0",
   "metadata": {},
   "outputs": [],
   "source": [
    "y = df[\"Annotation Class\"].astype(\"category\")"
   ]
  },
  {
   "cell_type": "code",
   "execution_count": null,
   "id": "6ec46d1a",
   "metadata": {},
   "outputs": [],
   "source": [
    "y.describe()"
   ]
  },
  {
   "cell_type": "code",
   "execution_count": null,
   "id": "ab4b182b",
   "metadata": {},
   "outputs": [],
   "source": [
    "y.info()"
   ]
  },
  {
   "cell_type": "code",
   "execution_count": null,
   "id": "cf6fb728",
   "metadata": {},
   "outputs": [],
   "source": [
    "y.cat.codes"
   ]
  },
  {
   "cell_type": "code",
   "execution_count": null,
   "id": "78fef3e2",
   "metadata": {},
   "outputs": [],
   "source": [
    "y.cat.categories"
   ]
  },
  {
   "cell_type": "code",
   "execution_count": null,
   "id": "91ea06aa",
   "metadata": {},
   "outputs": [],
   "source": [
    "y_code = y.cat.codes.values"
   ]
  },
  {
   "cell_type": "code",
   "execution_count": null,
   "id": "c7f9a848",
   "metadata": {},
   "outputs": [],
   "source": [
    "y_code"
   ]
  },
  {
   "cell_type": "code",
   "execution_count": null,
   "id": "5a0fc750",
   "metadata": {},
   "outputs": [],
   "source": [
    "y_code.shape"
   ]
  },
  {
   "cell_type": "code",
   "execution_count": null,
   "id": "9140c2b7",
   "metadata": {},
   "outputs": [],
   "source": [
    "y_code"
   ]
  },
  {
   "cell_type": "code",
   "execution_count": null,
   "id": "58fe8b30",
   "metadata": {},
   "outputs": [],
   "source": [
    "from sklearn.model_selection import train_test_split"
   ]
  },
  {
   "cell_type": "code",
   "execution_count": null,
   "id": "f53c6ede",
   "metadata": {},
   "outputs": [],
   "source": [
    "X_train, X_test, y_train, y_test = train_test_split(\n",
    "    X, y_code, test_size=0.2, random_state=101, stratify=y, shuffle=True\n",
    ")"
   ]
  },
  {
   "cell_type": "code",
   "execution_count": null,
   "id": "3e9cca17",
   "metadata": {},
   "outputs": [],
   "source": [
    "X_train, X_val, y_train, y_val = train_test_split(\n",
    "    X_train, y_train, test_size=0.2, random_state=101, stratify=y_train, shuffle=True\n",
    ")"
   ]
  },
  {
   "cell_type": "code",
   "execution_count": null,
   "id": "e2fcd3a8",
   "metadata": {},
   "outputs": [],
   "source": [
    "X_train_tensor = torch.FloatTensor(X_train)\n",
    "X_val_tensor = torch.FloatTensor(X_val)\n",
    "X_test_tensor = torch.FloatTensor(X_test)\n",
    "y_train_tensor = torch.LongTensor(y_train)\n",
    "y_val_tensor = torch.LongTensor(y_val)\n",
    "y_test_tensor = torch.LongTensor(y_test)"
   ]
  },
  {
   "cell_type": "code",
   "execution_count": null,
   "id": "7b134045",
   "metadata": {},
   "outputs": [],
   "source": [
    "X_train_tensor.shape"
   ]
  },
  {
   "cell_type": "code",
   "execution_count": null,
   "id": "93baf83c",
   "metadata": {},
   "outputs": [],
   "source": [
    "X_val_tensor.shape"
   ]
  },
  {
   "cell_type": "markdown",
   "id": "c13c9b48",
   "metadata": {},
   "source": [
    "## ANN"
   ]
  },
  {
   "cell_type": "code",
   "execution_count": null,
   "id": "55fd7771",
   "metadata": {},
   "outputs": [],
   "source": [
    "from ecg_deep_learning_models.models import ECGANNModel,ECGCNNModel\n",
    "from ecg_deep_learning_models.utils import count_parameters, train_model,eval_model,show_metrics"
   ]
  },
  {
   "cell_type": "code",
   "execution_count": null,
   "id": "12d59a01",
   "metadata": {},
   "outputs": [],
   "source": [
    "ecg_ann_model = ECGANNModel(layers=[100,50])\n",
    "ecg_ann_model_1 = ECGANNModel(layers=[100,50,25])"
   ]
  },
  {
   "cell_type": "code",
   "execution_count": null,
   "id": "488194f2",
   "metadata": {},
   "outputs": [],
   "source": [
    "count_parameters(ecg_ann_model)"
   ]
  },
  {
   "cell_type": "code",
   "execution_count": null,
   "id": "df0053c2",
   "metadata": {},
   "outputs": [],
   "source": [
    "count_parameters(ecg_ann_model_1)"
   ]
  },
  {
   "cell_type": "code",
   "execution_count": null,
   "id": "df376bc2",
   "metadata": {},
   "outputs": [],
   "source": [
    "ecg_ann_model"
   ]
  },
  {
   "cell_type": "code",
   "execution_count": null,
   "id": "13ac0ac2",
   "metadata": {},
   "outputs": [],
   "source": [
    "ecg_ann_model_1"
   ]
  },
  {
   "cell_type": "code",
   "execution_count": null,
   "id": "e3055c94",
   "metadata": {},
   "outputs": [],
   "source": [
    "ecg_ann_model.parameters()"
   ]
  },
  {
   "cell_type": "code",
   "execution_count": null,
   "id": "1a192bf9",
   "metadata": {},
   "outputs": [],
   "source": [
    "ecg_ann_model_1.parameters()"
   ]
  },
  {
   "cell_type": "code",
   "execution_count": null,
   "id": "30e9087b",
   "metadata": {},
   "outputs": [],
   "source": [
    "ecg_ann_model.parameters"
   ]
  },
  {
   "cell_type": "code",
   "execution_count": null,
   "id": "64a15516",
   "metadata": {},
   "outputs": [],
   "source": [
    "ecg_ann_model_1.parameters"
   ]
  },
  {
   "cell_type": "code",
   "execution_count": null,
   "id": "35b5d973",
   "metadata": {},
   "outputs": [],
   "source": [
    "train_accuracies, test_accuracies,train_mean_losses,test_mean_losses = train_model(model=ecg_ann_model,X_train=X_train_tensor,y_train=y_train_tensor,X_test=X_val_tensor,y_test=y_val_tensor,learning_rate=0.001,batch_size=100,val_batch_size=100,epochs=30)"
   ]
  },
  {
   "cell_type": "code",
   "execution_count": null,
   "id": "bebb8524",
   "metadata": {},
   "outputs": [],
   "source": [
    "show_metrics(train_accuracies, test_accuracies,train_mean_losses,test_mean_losses)\n",
    "eval_model(ecg_ann_model,X_test_tensor,y_test_tensor)"
   ]
  },
  {
   "cell_type": "code",
   "execution_count": null,
   "id": "ae38a959",
   "metadata": {},
   "outputs": [],
   "source": [
    "train_accuracies, test_accuracies,train_mean_losses,test_mean_losses = train_model(model=ecg_ann_model_1,X_train=X_train_tensor,y_train=y_train_tensor,X_test=X_val_tensor,y_test=y_val_tensor,learning_rate=0.001,batch_size=100,val_batch_size=100,epochs=30)"
   ]
  },
  {
   "cell_type": "code",
   "execution_count": null,
   "id": "8106e0f6",
   "metadata": {},
   "outputs": [],
   "source": [
    "show_metrics(train_accuracies, test_accuracies,train_mean_losses,test_mean_losses)\n",
    "eval_model(ecg_ann_model_1,X_test_tensor,y_test_tensor)"
   ]
  },
  {
   "cell_type": "markdown",
   "id": "c483d6c4",
   "metadata": {},
   "source": [
    "## CNN"
   ]
  },
  {
   "cell_type": "code",
   "execution_count": null,
   "id": "27eb30ff",
   "metadata": {},
   "outputs": [],
   "source": [
    "ecg_cnn_model = ECGCNNModel()"
   ]
  },
  {
   "cell_type": "code",
   "execution_count": null,
   "id": "18817c3e",
   "metadata": {},
   "outputs": [],
   "source": [
    "count_parameters(ecg_cnn_model)"
   ]
  },
  {
   "cell_type": "code",
   "execution_count": null,
   "id": "81385038",
   "metadata": {},
   "outputs": [],
   "source": [
    "train_accuracies, test_accuracies,train_mean_losses,test_mean_losses = train_model(model=ecg_cnn_model,X_train=X_train_tensor.reshape(-1,1,200),y_train=y_train_tensor,X_test=X_val_tensor.reshape(-1,1,200),y_test=y_val_tensor,learning_rate=0.001,batch_size=100,val_batch_size=100,epochs=6)"
   ]
  },
  {
   "cell_type": "code",
   "execution_count": null,
   "id": "47f18580",
   "metadata": {},
   "outputs": [],
   "source": [
    "show_metrics(train_accuracies, test_accuracies,train_mean_losses,test_mean_losses)\n",
    "eval_model(ecg_cnn_model,X_test_tensor,y_test_tensor)"
   ]
  },
  {
   "cell_type": "code",
   "execution_count": null,
   "id": "d791101c",
   "metadata": {},
   "outputs": [],
   "source": [
    "X_train_tensor.shape"
   ]
  }
 ],
 "metadata": {
  "kernelspec": {
   "display_name": "Python 3 (ipykernel)",
   "language": "python",
   "name": "python3"
  },
  "language_info": {
   "codemirror_mode": {
    "name": "ipython",
    "version": 3
   },
   "file_extension": ".py",
   "mimetype": "text/x-python",
   "name": "python",
   "nbconvert_exporter": "python",
   "pygments_lexer": "ipython3",
   "version": "3.9.17"
  }
 },
 "nbformat": 4,
 "nbformat_minor": 5
}
